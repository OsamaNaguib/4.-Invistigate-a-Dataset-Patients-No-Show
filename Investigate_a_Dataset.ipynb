{
 "cells": [
  {
   "cell_type": "markdown",
   "metadata": {},
   "source": [
    "\n",
    "\n",
    "\n",
    "\n",
    "# Invistigating Factors Affecting Prediction of Patients No-shows incidences in Brazil\n",
    "\n",
    "By Osama Mohamed Naguib\n",
    "\n",
    "\n",
    "## Table of Contents\n",
    "<ul>\n",
    "<li><a href=\"#intro\">Introduction</a></li>\n",
    "<li><a href=\"#wrangling\">Data Wrangling</a></li>\n",
    "<li><a href=\"#eda\">Exploratory Data Analysis</a></li>\n",
    "<li><a href=\"#conclusions\">Conclusions</a></li>\n",
    "</ul>"
   ]
  },
  {
   "cell_type": "markdown",
   "metadata": {},
   "source": [
    "<a id='intro'></a>\n",
    "## Introduction\n",
    "\n",
    "* In this Analysis, we are going to exlpore the factors affecting the prediction if a patient would show up in his/her scheduled medical apointments or not.\n",
    "\n",
    "* Dataset is composed of over 110k entries representing Patients appointments details in Brazil; emphasizing No_Shows incidences and some other independent variables/Factors that should be invistigated in this study, to know wheather it has a correlation with the dependent variable \"No_show\" or not.\n",
    "\n",
    "* Variables includes: 'Age', 'Neighbourhood', 'Scholarship', 'Hypertension','Diabetes', 'Alcoholism', 'Handicapped', 'SMS_received', 'No-show'.\n",
    "\n",
    "* A Correlation analysis will be carried out between No-shows incidences and other independent variables; trying to address the real employed factors that could empower the concerned parties in planning and execution of medical appotintments; maximizing the overall outcomes.\n",
    "\n",
    "### Research Questions:\n",
    "\n",
    "#### Q1: Is there a correlation between No-Shows incidences  and receiveing SMS message?\n",
    "#### Q 2:  Is there is a correlation between No-shows incidences and Age groups?"
   ]
  },
  {
   "cell_type": "code",
   "execution_count": 1,
   "metadata": {},
   "outputs": [],
   "source": [
    "# Importing necessary libraries\n",
    "import numpy as np\n",
    "import pandas as pd\n",
    "import matplotlib.pyplot as plt\n",
    "import seaborn as sns\n",
    "\n",
    "%matplotlib inline\n"
   ]
  },
  {
   "cell_type": "markdown",
   "metadata": {},
   "source": [
    "<a id='wrangling'></a>\n",
    "## Data Wrangling\n",
    "\n",
    "> **Tip**: In this section of the report, after loading in the data, we will check for cleanliness, and then trim and clean our dataset for analysis.\n",
    "\n",
    "#### Data Assessment includes: `Visual Assessment` and `Programatic Assessment`.\n",
    "\n",
    "\n",
    "##### $\\color{Grey}{\\text{Visual Assessment}}$:\n",
    "\n",
    "* View of df\n",
    "* Head\n",
    "* Tail\n",
    "* Sample\n",
    "* df.columns\n",
    "* df[:1]\n",
    "\n",
    "##### $\\color{Grey}{\\text{Programatic Assessment}}$:\n",
    "\n",
    "* info\n",
    "* shape\n",
    "* describe\n",
    "* Duplicated()\n",
    "* mean()\n",
    "* value_counts()\n",
    "* isnull().sum()\n",
    "* unique()\n",
    "* nunique()\n",
    "\n",
    "\n",
    "\n",
    "##### $\\color{orange}{\\text{Loading the dataset}}$"
   ]
  },
  {
   "cell_type": "code",
   "execution_count": 4,
   "metadata": {
    "scrolled": true
   },
   "outputs": [
    {
     "data": {
      "text/plain": [
       "(110527, 14)"
      ]
     },
     "execution_count": 4,
     "metadata": {},
     "output_type": "execute_result"
    }
   ],
   "source": [
    "# Loading dataset into dataframe\n",
    "df = pd.read_csv(\n",
    "    r'C:\\Users\\osama.naguib\\OneDrive\\Udacity Projects\\Advanced Track\\Project 1 - Invistigate a Dataset\\Dataset\\DS_NO_SHOW.csv')\n",
    "# Exploring dataframe\n",
    "df.shape\n"
   ]
  },
  {
   "cell_type": "markdown",
   "metadata": {},
   "source": [
    "### $\\color{orange}{\\text{Visual Assessment}}$"
   ]
  },
  {
   "cell_type": "code",
   "execution_count": 3,
   "metadata": {
    "scrolled": true
   },
   "outputs": [
    {
     "data": {
      "text/html": [
       "<div>\n",
       "<style scoped>\n",
       "    .dataframe tbody tr th:only-of-type {\n",
       "        vertical-align: middle;\n",
       "    }\n",
       "\n",
       "    .dataframe tbody tr th {\n",
       "        vertical-align: top;\n",
       "    }\n",
       "\n",
       "    .dataframe thead th {\n",
       "        text-align: right;\n",
       "    }\n",
       "</style>\n",
       "<table border=\"1\" class=\"dataframe\">\n",
       "  <thead>\n",
       "    <tr style=\"text-align: right;\">\n",
       "      <th></th>\n",
       "      <th>PatientId</th>\n",
       "      <th>AppointmentID</th>\n",
       "      <th>Gender</th>\n",
       "      <th>ScheduledDay</th>\n",
       "      <th>AppointmentDay</th>\n",
       "      <th>Age</th>\n",
       "      <th>Neighbourhood</th>\n",
       "      <th>Scholarship</th>\n",
       "      <th>Hipertension</th>\n",
       "      <th>Diabetes</th>\n",
       "      <th>Alcoholism</th>\n",
       "      <th>Handcap</th>\n",
       "      <th>SMS_received</th>\n",
       "      <th>No-show</th>\n",
       "    </tr>\n",
       "  </thead>\n",
       "  <tbody>\n",
       "    <tr>\n",
       "      <th>0</th>\n",
       "      <td>2.987250e+13</td>\n",
       "      <td>5642903</td>\n",
       "      <td>F</td>\n",
       "      <td>2016-04-29T18:38:08Z</td>\n",
       "      <td>2016-04-29T00:00:00Z</td>\n",
       "      <td>62</td>\n",
       "      <td>JARDIM DA PENHA</td>\n",
       "      <td>0</td>\n",
       "      <td>1</td>\n",
       "      <td>0</td>\n",
       "      <td>0</td>\n",
       "      <td>0</td>\n",
       "      <td>0</td>\n",
       "      <td>No</td>\n",
       "    </tr>\n",
       "    <tr>\n",
       "      <th>1</th>\n",
       "      <td>5.589978e+14</td>\n",
       "      <td>5642503</td>\n",
       "      <td>M</td>\n",
       "      <td>2016-04-29T16:08:27Z</td>\n",
       "      <td>2016-04-29T00:00:00Z</td>\n",
       "      <td>56</td>\n",
       "      <td>JARDIM DA PENHA</td>\n",
       "      <td>0</td>\n",
       "      <td>0</td>\n",
       "      <td>0</td>\n",
       "      <td>0</td>\n",
       "      <td>0</td>\n",
       "      <td>0</td>\n",
       "      <td>No</td>\n",
       "    </tr>\n",
       "    <tr>\n",
       "      <th>2</th>\n",
       "      <td>4.262962e+12</td>\n",
       "      <td>5642549</td>\n",
       "      <td>F</td>\n",
       "      <td>2016-04-29T16:19:04Z</td>\n",
       "      <td>2016-04-29T00:00:00Z</td>\n",
       "      <td>62</td>\n",
       "      <td>MATA DA PRAIA</td>\n",
       "      <td>0</td>\n",
       "      <td>0</td>\n",
       "      <td>0</td>\n",
       "      <td>0</td>\n",
       "      <td>0</td>\n",
       "      <td>0</td>\n",
       "      <td>No</td>\n",
       "    </tr>\n",
       "    <tr>\n",
       "      <th>3</th>\n",
       "      <td>8.679512e+11</td>\n",
       "      <td>5642828</td>\n",
       "      <td>F</td>\n",
       "      <td>2016-04-29T17:29:31Z</td>\n",
       "      <td>2016-04-29T00:00:00Z</td>\n",
       "      <td>8</td>\n",
       "      <td>PONTAL DE CAMBURI</td>\n",
       "      <td>0</td>\n",
       "      <td>0</td>\n",
       "      <td>0</td>\n",
       "      <td>0</td>\n",
       "      <td>0</td>\n",
       "      <td>0</td>\n",
       "      <td>No</td>\n",
       "    </tr>\n",
       "    <tr>\n",
       "      <th>4</th>\n",
       "      <td>8.841186e+12</td>\n",
       "      <td>5642494</td>\n",
       "      <td>F</td>\n",
       "      <td>2016-04-29T16:07:23Z</td>\n",
       "      <td>2016-04-29T00:00:00Z</td>\n",
       "      <td>56</td>\n",
       "      <td>JARDIM DA PENHA</td>\n",
       "      <td>0</td>\n",
       "      <td>1</td>\n",
       "      <td>1</td>\n",
       "      <td>0</td>\n",
       "      <td>0</td>\n",
       "      <td>0</td>\n",
       "      <td>No</td>\n",
       "    </tr>\n",
       "  </tbody>\n",
       "</table>\n",
       "</div>"
      ],
      "text/plain": [
       "      PatientId  AppointmentID Gender          ScheduledDay  \\\n",
       "0  2.987250e+13        5642903      F  2016-04-29T18:38:08Z   \n",
       "1  5.589978e+14        5642503      M  2016-04-29T16:08:27Z   \n",
       "2  4.262962e+12        5642549      F  2016-04-29T16:19:04Z   \n",
       "3  8.679512e+11        5642828      F  2016-04-29T17:29:31Z   \n",
       "4  8.841186e+12        5642494      F  2016-04-29T16:07:23Z   \n",
       "\n",
       "         AppointmentDay  Age      Neighbourhood  Scholarship  Hipertension  \\\n",
       "0  2016-04-29T00:00:00Z   62    JARDIM DA PENHA            0             1   \n",
       "1  2016-04-29T00:00:00Z   56    JARDIM DA PENHA            0             0   \n",
       "2  2016-04-29T00:00:00Z   62      MATA DA PRAIA            0             0   \n",
       "3  2016-04-29T00:00:00Z    8  PONTAL DE CAMBURI            0             0   \n",
       "4  2016-04-29T00:00:00Z   56    JARDIM DA PENHA            0             1   \n",
       "\n",
       "   Diabetes  Alcoholism  Handcap  SMS_received No-show  \n",
       "0         0           0        0             0      No  \n",
       "1         0           0        0             0      No  \n",
       "2         0           0        0             0      No  \n",
       "3         0           0        0             0      No  \n",
       "4         1           0        0             0      No  "
      ]
     },
     "execution_count": 3,
     "metadata": {},
     "output_type": "execute_result"
    }
   ],
   "source": [
    "# Checking the first rows of df\n",
    "df.head()"
   ]
  },
  {
   "cell_type": "markdown",
   "metadata": {},
   "source": [
    "ScheduledDay  and AppointmentDay is not in dateTime format, and should be corrected"
   ]
  },
  {
   "cell_type": "markdown",
   "metadata": {},
   "source": [
    "Patients ID and Appointments ID are not needed in the analysis, and will be dropped after ensuring that no duplicates are there"
   ]
  },
  {
   "cell_type": "code",
   "execution_count": 4,
   "metadata": {
    "scrolled": true
   },
   "outputs": [
    {
     "data": {
      "text/html": [
       "<div>\n",
       "<style scoped>\n",
       "    .dataframe tbody tr th:only-of-type {\n",
       "        vertical-align: middle;\n",
       "    }\n",
       "\n",
       "    .dataframe tbody tr th {\n",
       "        vertical-align: top;\n",
       "    }\n",
       "\n",
       "    .dataframe thead th {\n",
       "        text-align: right;\n",
       "    }\n",
       "</style>\n",
       "<table border=\"1\" class=\"dataframe\">\n",
       "  <thead>\n",
       "    <tr style=\"text-align: right;\">\n",
       "      <th></th>\n",
       "      <th>PatientId</th>\n",
       "      <th>AppointmentID</th>\n",
       "      <th>Gender</th>\n",
       "      <th>ScheduledDay</th>\n",
       "      <th>AppointmentDay</th>\n",
       "      <th>Age</th>\n",
       "      <th>Neighbourhood</th>\n",
       "      <th>Scholarship</th>\n",
       "      <th>Hipertension</th>\n",
       "      <th>Diabetes</th>\n",
       "      <th>Alcoholism</th>\n",
       "      <th>Handcap</th>\n",
       "      <th>SMS_received</th>\n",
       "      <th>No-show</th>\n",
       "    </tr>\n",
       "  </thead>\n",
       "  <tbody>\n",
       "    <tr>\n",
       "      <th>110522</th>\n",
       "      <td>2.572134e+12</td>\n",
       "      <td>5651768</td>\n",
       "      <td>F</td>\n",
       "      <td>2016-05-03T09:15:35Z</td>\n",
       "      <td>2016-06-07T00:00:00Z</td>\n",
       "      <td>56</td>\n",
       "      <td>MARIA ORTIZ</td>\n",
       "      <td>0</td>\n",
       "      <td>0</td>\n",
       "      <td>0</td>\n",
       "      <td>0</td>\n",
       "      <td>0</td>\n",
       "      <td>1</td>\n",
       "      <td>No</td>\n",
       "    </tr>\n",
       "    <tr>\n",
       "      <th>110523</th>\n",
       "      <td>3.596266e+12</td>\n",
       "      <td>5650093</td>\n",
       "      <td>F</td>\n",
       "      <td>2016-05-03T07:27:33Z</td>\n",
       "      <td>2016-06-07T00:00:00Z</td>\n",
       "      <td>51</td>\n",
       "      <td>MARIA ORTIZ</td>\n",
       "      <td>0</td>\n",
       "      <td>0</td>\n",
       "      <td>0</td>\n",
       "      <td>0</td>\n",
       "      <td>0</td>\n",
       "      <td>1</td>\n",
       "      <td>No</td>\n",
       "    </tr>\n",
       "    <tr>\n",
       "      <th>110524</th>\n",
       "      <td>1.557663e+13</td>\n",
       "      <td>5630692</td>\n",
       "      <td>F</td>\n",
       "      <td>2016-04-27T16:03:52Z</td>\n",
       "      <td>2016-06-07T00:00:00Z</td>\n",
       "      <td>21</td>\n",
       "      <td>MARIA ORTIZ</td>\n",
       "      <td>0</td>\n",
       "      <td>0</td>\n",
       "      <td>0</td>\n",
       "      <td>0</td>\n",
       "      <td>0</td>\n",
       "      <td>1</td>\n",
       "      <td>No</td>\n",
       "    </tr>\n",
       "    <tr>\n",
       "      <th>110525</th>\n",
       "      <td>9.213493e+13</td>\n",
       "      <td>5630323</td>\n",
       "      <td>F</td>\n",
       "      <td>2016-04-27T15:09:23Z</td>\n",
       "      <td>2016-06-07T00:00:00Z</td>\n",
       "      <td>38</td>\n",
       "      <td>MARIA ORTIZ</td>\n",
       "      <td>0</td>\n",
       "      <td>0</td>\n",
       "      <td>0</td>\n",
       "      <td>0</td>\n",
       "      <td>0</td>\n",
       "      <td>1</td>\n",
       "      <td>No</td>\n",
       "    </tr>\n",
       "    <tr>\n",
       "      <th>110526</th>\n",
       "      <td>3.775115e+14</td>\n",
       "      <td>5629448</td>\n",
       "      <td>F</td>\n",
       "      <td>2016-04-27T13:30:56Z</td>\n",
       "      <td>2016-06-07T00:00:00Z</td>\n",
       "      <td>54</td>\n",
       "      <td>MARIA ORTIZ</td>\n",
       "      <td>0</td>\n",
       "      <td>0</td>\n",
       "      <td>0</td>\n",
       "      <td>0</td>\n",
       "      <td>0</td>\n",
       "      <td>1</td>\n",
       "      <td>No</td>\n",
       "    </tr>\n",
       "  </tbody>\n",
       "</table>\n",
       "</div>"
      ],
      "text/plain": [
       "           PatientId  AppointmentID Gender          ScheduledDay  \\\n",
       "110522  2.572134e+12        5651768      F  2016-05-03T09:15:35Z   \n",
       "110523  3.596266e+12        5650093      F  2016-05-03T07:27:33Z   \n",
       "110524  1.557663e+13        5630692      F  2016-04-27T16:03:52Z   \n",
       "110525  9.213493e+13        5630323      F  2016-04-27T15:09:23Z   \n",
       "110526  3.775115e+14        5629448      F  2016-04-27T13:30:56Z   \n",
       "\n",
       "              AppointmentDay  Age Neighbourhood  Scholarship  Hipertension  \\\n",
       "110522  2016-06-07T00:00:00Z   56   MARIA ORTIZ            0             0   \n",
       "110523  2016-06-07T00:00:00Z   51   MARIA ORTIZ            0             0   \n",
       "110524  2016-06-07T00:00:00Z   21   MARIA ORTIZ            0             0   \n",
       "110525  2016-06-07T00:00:00Z   38   MARIA ORTIZ            0             0   \n",
       "110526  2016-06-07T00:00:00Z   54   MARIA ORTIZ            0             0   \n",
       "\n",
       "        Diabetes  Alcoholism  Handcap  SMS_received No-show  \n",
       "110522         0           0        0             1      No  \n",
       "110523         0           0        0             1      No  \n",
       "110524         0           0        0             1      No  \n",
       "110525         0           0        0             1      No  \n",
       "110526         0           0        0             1      No  "
      ]
     },
     "execution_count": 4,
     "metadata": {},
     "output_type": "execute_result"
    }
   ],
   "source": [
    "# Checking the last rows of df\n",
    "df.tail()"
   ]
  },
  {
   "cell_type": "code",
   "execution_count": 5,
   "metadata": {},
   "outputs": [
    {
     "data": {
      "text/html": [
       "<div>\n",
       "<style scoped>\n",
       "    .dataframe tbody tr th:only-of-type {\n",
       "        vertical-align: middle;\n",
       "    }\n",
       "\n",
       "    .dataframe tbody tr th {\n",
       "        vertical-align: top;\n",
       "    }\n",
       "\n",
       "    .dataframe thead th {\n",
       "        text-align: right;\n",
       "    }\n",
       "</style>\n",
       "<table border=\"1\" class=\"dataframe\">\n",
       "  <thead>\n",
       "    <tr style=\"text-align: right;\">\n",
       "      <th></th>\n",
       "      <th>PatientId</th>\n",
       "      <th>AppointmentID</th>\n",
       "      <th>Gender</th>\n",
       "      <th>ScheduledDay</th>\n",
       "      <th>AppointmentDay</th>\n",
       "      <th>Age</th>\n",
       "      <th>Neighbourhood</th>\n",
       "      <th>Scholarship</th>\n",
       "      <th>Hipertension</th>\n",
       "      <th>Diabetes</th>\n",
       "      <th>Alcoholism</th>\n",
       "      <th>Handcap</th>\n",
       "      <th>SMS_received</th>\n",
       "      <th>No-show</th>\n",
       "    </tr>\n",
       "  </thead>\n",
       "  <tbody>\n",
       "    <tr>\n",
       "      <th>5070</th>\n",
       "      <td>1.513990e+11</td>\n",
       "      <td>5708703</td>\n",
       "      <td>F</td>\n",
       "      <td>2016-05-17T11:48:20Z</td>\n",
       "      <td>2016-05-19T00:00:00Z</td>\n",
       "      <td>17</td>\n",
       "      <td>SANTA LUÍZA</td>\n",
       "      <td>0</td>\n",
       "      <td>0</td>\n",
       "      <td>0</td>\n",
       "      <td>0</td>\n",
       "      <td>0</td>\n",
       "      <td>0</td>\n",
       "      <td>No</td>\n",
       "    </tr>\n",
       "    <tr>\n",
       "      <th>80643</th>\n",
       "      <td>7.877169e+12</td>\n",
       "      <td>5661619</td>\n",
       "      <td>M</td>\n",
       "      <td>2016-05-05T07:39:10Z</td>\n",
       "      <td>2016-05-05T00:00:00Z</td>\n",
       "      <td>12</td>\n",
       "      <td>ITARARÉ</td>\n",
       "      <td>1</td>\n",
       "      <td>0</td>\n",
       "      <td>0</td>\n",
       "      <td>0</td>\n",
       "      <td>1</td>\n",
       "      <td>0</td>\n",
       "      <td>No</td>\n",
       "    </tr>\n",
       "    <tr>\n",
       "      <th>16924</th>\n",
       "      <td>8.382848e+11</td>\n",
       "      <td>5674766</td>\n",
       "      <td>F</td>\n",
       "      <td>2016-05-09T11:52:43Z</td>\n",
       "      <td>2016-05-16T00:00:00Z</td>\n",
       "      <td>36</td>\n",
       "      <td>RESISTÊNCIA</td>\n",
       "      <td>1</td>\n",
       "      <td>0</td>\n",
       "      <td>0</td>\n",
       "      <td>0</td>\n",
       "      <td>0</td>\n",
       "      <td>0</td>\n",
       "      <td>Yes</td>\n",
       "    </tr>\n",
       "    <tr>\n",
       "      <th>8810</th>\n",
       "      <td>3.353478e+13</td>\n",
       "      <td>5732779</td>\n",
       "      <td>M</td>\n",
       "      <td>2016-05-24T12:26:00Z</td>\n",
       "      <td>2016-05-24T00:00:00Z</td>\n",
       "      <td>44</td>\n",
       "      <td>DA PENHA</td>\n",
       "      <td>0</td>\n",
       "      <td>0</td>\n",
       "      <td>0</td>\n",
       "      <td>1</td>\n",
       "      <td>0</td>\n",
       "      <td>0</td>\n",
       "      <td>No</td>\n",
       "    </tr>\n",
       "    <tr>\n",
       "      <th>19858</th>\n",
       "      <td>4.769293e+11</td>\n",
       "      <td>5633371</td>\n",
       "      <td>M</td>\n",
       "      <td>2016-04-28T09:22:56Z</td>\n",
       "      <td>2016-05-24T00:00:00Z</td>\n",
       "      <td>43</td>\n",
       "      <td>BELA VISTA</td>\n",
       "      <td>0</td>\n",
       "      <td>0</td>\n",
       "      <td>0</td>\n",
       "      <td>0</td>\n",
       "      <td>0</td>\n",
       "      <td>1</td>\n",
       "      <td>No</td>\n",
       "    </tr>\n",
       "    <tr>\n",
       "      <th>61378</th>\n",
       "      <td>4.819263e+14</td>\n",
       "      <td>5704905</td>\n",
       "      <td>F</td>\n",
       "      <td>2016-05-16T16:59:07Z</td>\n",
       "      <td>2016-05-18T00:00:00Z</td>\n",
       "      <td>18</td>\n",
       "      <td>SÃO BENEDITO</td>\n",
       "      <td>0</td>\n",
       "      <td>0</td>\n",
       "      <td>0</td>\n",
       "      <td>0</td>\n",
       "      <td>0</td>\n",
       "      <td>0</td>\n",
       "      <td>Yes</td>\n",
       "    </tr>\n",
       "    <tr>\n",
       "      <th>62490</th>\n",
       "      <td>9.339426e+13</td>\n",
       "      <td>5684721</td>\n",
       "      <td>F</td>\n",
       "      <td>2016-05-11T09:01:43Z</td>\n",
       "      <td>2016-05-11T00:00:00Z</td>\n",
       "      <td>68</td>\n",
       "      <td>VILA RUBIM</td>\n",
       "      <td>0</td>\n",
       "      <td>0</td>\n",
       "      <td>0</td>\n",
       "      <td>0</td>\n",
       "      <td>0</td>\n",
       "      <td>0</td>\n",
       "      <td>No</td>\n",
       "    </tr>\n",
       "    <tr>\n",
       "      <th>50419</th>\n",
       "      <td>5.513255e+10</td>\n",
       "      <td>5596381</td>\n",
       "      <td>F</td>\n",
       "      <td>2016-04-18T14:30:19Z</td>\n",
       "      <td>2016-05-02T00:00:00Z</td>\n",
       "      <td>19</td>\n",
       "      <td>SANTO ANTÔNIO</td>\n",
       "      <td>1</td>\n",
       "      <td>0</td>\n",
       "      <td>0</td>\n",
       "      <td>0</td>\n",
       "      <td>0</td>\n",
       "      <td>1</td>\n",
       "      <td>Yes</td>\n",
       "    </tr>\n",
       "    <tr>\n",
       "      <th>58229</th>\n",
       "      <td>4.465542e+12</td>\n",
       "      <td>5675370</td>\n",
       "      <td>M</td>\n",
       "      <td>2016-05-09T13:38:12Z</td>\n",
       "      <td>2016-05-09T00:00:00Z</td>\n",
       "      <td>42</td>\n",
       "      <td>SANTA TEREZA</td>\n",
       "      <td>0</td>\n",
       "      <td>0</td>\n",
       "      <td>0</td>\n",
       "      <td>0</td>\n",
       "      <td>0</td>\n",
       "      <td>0</td>\n",
       "      <td>No</td>\n",
       "    </tr>\n",
       "    <tr>\n",
       "      <th>3796</th>\n",
       "      <td>3.438729e+12</td>\n",
       "      <td>5492968</td>\n",
       "      <td>M</td>\n",
       "      <td>2016-03-21T08:07:37Z</td>\n",
       "      <td>2016-05-04T00:00:00Z</td>\n",
       "      <td>4</td>\n",
       "      <td>RESISTÊNCIA</td>\n",
       "      <td>0</td>\n",
       "      <td>0</td>\n",
       "      <td>0</td>\n",
       "      <td>0</td>\n",
       "      <td>0</td>\n",
       "      <td>1</td>\n",
       "      <td>No</td>\n",
       "    </tr>\n",
       "    <tr>\n",
       "      <th>44924</th>\n",
       "      <td>7.556493e+14</td>\n",
       "      <td>5688621</td>\n",
       "      <td>F</td>\n",
       "      <td>2016-05-12T07:31:26Z</td>\n",
       "      <td>2016-05-20T00:00:00Z</td>\n",
       "      <td>65</td>\n",
       "      <td>SÃO JOSÉ</td>\n",
       "      <td>0</td>\n",
       "      <td>1</td>\n",
       "      <td>0</td>\n",
       "      <td>0</td>\n",
       "      <td>0</td>\n",
       "      <td>0</td>\n",
       "      <td>No</td>\n",
       "    </tr>\n",
       "    <tr>\n",
       "      <th>43630</th>\n",
       "      <td>8.764746e+13</td>\n",
       "      <td>5600698</td>\n",
       "      <td>M</td>\n",
       "      <td>2016-04-19T11:04:28Z</td>\n",
       "      <td>2016-05-03T00:00:00Z</td>\n",
       "      <td>4</td>\n",
       "      <td>SANTOS DUMONT</td>\n",
       "      <td>1</td>\n",
       "      <td>0</td>\n",
       "      <td>0</td>\n",
       "      <td>0</td>\n",
       "      <td>0</td>\n",
       "      <td>0</td>\n",
       "      <td>No</td>\n",
       "    </tr>\n",
       "    <tr>\n",
       "      <th>7776</th>\n",
       "      <td>4.742529e+14</td>\n",
       "      <td>5719845</td>\n",
       "      <td>M</td>\n",
       "      <td>2016-05-19T12:28:44Z</td>\n",
       "      <td>2016-05-25T00:00:00Z</td>\n",
       "      <td>31</td>\n",
       "      <td>CENTRO</td>\n",
       "      <td>0</td>\n",
       "      <td>0</td>\n",
       "      <td>0</td>\n",
       "      <td>0</td>\n",
       "      <td>0</td>\n",
       "      <td>0</td>\n",
       "      <td>No</td>\n",
       "    </tr>\n",
       "    <tr>\n",
       "      <th>103102</th>\n",
       "      <td>6.986954e+12</td>\n",
       "      <td>5748910</td>\n",
       "      <td>F</td>\n",
       "      <td>2016-05-31T07:20:51Z</td>\n",
       "      <td>2016-06-02T00:00:00Z</td>\n",
       "      <td>47</td>\n",
       "      <td>CONQUISTA</td>\n",
       "      <td>0</td>\n",
       "      <td>0</td>\n",
       "      <td>0</td>\n",
       "      <td>0</td>\n",
       "      <td>0</td>\n",
       "      <td>0</td>\n",
       "      <td>No</td>\n",
       "    </tr>\n",
       "    <tr>\n",
       "      <th>66579</th>\n",
       "      <td>4.175526e+13</td>\n",
       "      <td>5721135</td>\n",
       "      <td>F</td>\n",
       "      <td>2016-05-19T15:31:06Z</td>\n",
       "      <td>2016-05-19T00:00:00Z</td>\n",
       "      <td>46</td>\n",
       "      <td>MARIA ORTIZ</td>\n",
       "      <td>0</td>\n",
       "      <td>1</td>\n",
       "      <td>0</td>\n",
       "      <td>0</td>\n",
       "      <td>0</td>\n",
       "      <td>0</td>\n",
       "      <td>No</td>\n",
       "    </tr>\n",
       "  </tbody>\n",
       "</table>\n",
       "</div>"
      ],
      "text/plain": [
       "           PatientId  AppointmentID Gender          ScheduledDay  \\\n",
       "5070    1.513990e+11        5708703      F  2016-05-17T11:48:20Z   \n",
       "80643   7.877169e+12        5661619      M  2016-05-05T07:39:10Z   \n",
       "16924   8.382848e+11        5674766      F  2016-05-09T11:52:43Z   \n",
       "8810    3.353478e+13        5732779      M  2016-05-24T12:26:00Z   \n",
       "19858   4.769293e+11        5633371      M  2016-04-28T09:22:56Z   \n",
       "61378   4.819263e+14        5704905      F  2016-05-16T16:59:07Z   \n",
       "62490   9.339426e+13        5684721      F  2016-05-11T09:01:43Z   \n",
       "50419   5.513255e+10        5596381      F  2016-04-18T14:30:19Z   \n",
       "58229   4.465542e+12        5675370      M  2016-05-09T13:38:12Z   \n",
       "3796    3.438729e+12        5492968      M  2016-03-21T08:07:37Z   \n",
       "44924   7.556493e+14        5688621      F  2016-05-12T07:31:26Z   \n",
       "43630   8.764746e+13        5600698      M  2016-04-19T11:04:28Z   \n",
       "7776    4.742529e+14        5719845      M  2016-05-19T12:28:44Z   \n",
       "103102  6.986954e+12        5748910      F  2016-05-31T07:20:51Z   \n",
       "66579   4.175526e+13        5721135      F  2016-05-19T15:31:06Z   \n",
       "\n",
       "              AppointmentDay  Age  Neighbourhood  Scholarship  Hipertension  \\\n",
       "5070    2016-05-19T00:00:00Z   17    SANTA LUÍZA            0             0   \n",
       "80643   2016-05-05T00:00:00Z   12        ITARARÉ            1             0   \n",
       "16924   2016-05-16T00:00:00Z   36    RESISTÊNCIA            1             0   \n",
       "8810    2016-05-24T00:00:00Z   44       DA PENHA            0             0   \n",
       "19858   2016-05-24T00:00:00Z   43     BELA VISTA            0             0   \n",
       "61378   2016-05-18T00:00:00Z   18   SÃO BENEDITO            0             0   \n",
       "62490   2016-05-11T00:00:00Z   68     VILA RUBIM            0             0   \n",
       "50419   2016-05-02T00:00:00Z   19  SANTO ANTÔNIO            1             0   \n",
       "58229   2016-05-09T00:00:00Z   42   SANTA TEREZA            0             0   \n",
       "3796    2016-05-04T00:00:00Z    4    RESISTÊNCIA            0             0   \n",
       "44924   2016-05-20T00:00:00Z   65       SÃO JOSÉ            0             1   \n",
       "43630   2016-05-03T00:00:00Z    4  SANTOS DUMONT            1             0   \n",
       "7776    2016-05-25T00:00:00Z   31         CENTRO            0             0   \n",
       "103102  2016-06-02T00:00:00Z   47      CONQUISTA            0             0   \n",
       "66579   2016-05-19T00:00:00Z   46    MARIA ORTIZ            0             1   \n",
       "\n",
       "        Diabetes  Alcoholism  Handcap  SMS_received No-show  \n",
       "5070           0           0        0             0      No  \n",
       "80643          0           0        1             0      No  \n",
       "16924          0           0        0             0     Yes  \n",
       "8810           0           1        0             0      No  \n",
       "19858          0           0        0             1      No  \n",
       "61378          0           0        0             0     Yes  \n",
       "62490          0           0        0             0      No  \n",
       "50419          0           0        0             1     Yes  \n",
       "58229          0           0        0             0      No  \n",
       "3796           0           0        0             1      No  \n",
       "44924          0           0        0             0      No  \n",
       "43630          0           0        0             0      No  \n",
       "7776           0           0        0             0      No  \n",
       "103102         0           0        0             0      No  \n",
       "66579          0           0        0             0      No  "
      ]
     },
     "execution_count": 5,
     "metadata": {},
     "output_type": "execute_result"
    }
   ],
   "source": [
    "# Insoecting a random sample of df\n",
    "df.sample(15)"
   ]
  },
  {
   "cell_type": "code",
   "execution_count": 6,
   "metadata": {
    "scrolled": false
   },
   "outputs": [
    {
     "data": {
      "text/plain": [
       "Index(['PatientId', 'AppointmentID', 'Gender', 'ScheduledDay',\n",
       "       'AppointmentDay', 'Age', 'Neighbourhood', 'Scholarship', 'Hipertension',\n",
       "       'Diabetes', 'Alcoholism', 'Handcap', 'SMS_received', 'No-show'],\n",
       "      dtype='object')"
      ]
     },
     "execution_count": 6,
     "metadata": {},
     "output_type": "execute_result"
    }
   ],
   "source": [
    "# Checking df headers naming issues\n",
    "df.columns"
   ]
  },
  {
   "cell_type": "markdown",
   "metadata": {},
   "source": [
    "Some Columns has bad nameing; misspelled such as `'Hipertension'`, not conforming to documnetaiton rules (-) such as `'No-show'`; and not descriptive enough such as `'Handcap'`"
   ]
  },
  {
   "cell_type": "code",
   "execution_count": 7,
   "metadata": {
    "scrolled": true
   },
   "outputs": [
    {
     "data": {
      "text/html": [
       "<div>\n",
       "<style scoped>\n",
       "    .dataframe tbody tr th:only-of-type {\n",
       "        vertical-align: middle;\n",
       "    }\n",
       "\n",
       "    .dataframe tbody tr th {\n",
       "        vertical-align: top;\n",
       "    }\n",
       "\n",
       "    .dataframe thead th {\n",
       "        text-align: right;\n",
       "    }\n",
       "</style>\n",
       "<table border=\"1\" class=\"dataframe\">\n",
       "  <thead>\n",
       "    <tr style=\"text-align: right;\">\n",
       "      <th></th>\n",
       "      <th>PatientId</th>\n",
       "      <th>AppointmentID</th>\n",
       "      <th>Gender</th>\n",
       "      <th>ScheduledDay</th>\n",
       "      <th>AppointmentDay</th>\n",
       "      <th>Age</th>\n",
       "      <th>Neighbourhood</th>\n",
       "      <th>Scholarship</th>\n",
       "      <th>Hipertension</th>\n",
       "      <th>Diabetes</th>\n",
       "      <th>Alcoholism</th>\n",
       "      <th>Handcap</th>\n",
       "      <th>SMS_received</th>\n",
       "      <th>No-show</th>\n",
       "    </tr>\n",
       "  </thead>\n",
       "  <tbody>\n",
       "    <tr>\n",
       "      <th>0</th>\n",
       "      <td>2.987250e+13</td>\n",
       "      <td>5642903</td>\n",
       "      <td>F</td>\n",
       "      <td>2016-04-29T18:38:08Z</td>\n",
       "      <td>2016-04-29T00:00:00Z</td>\n",
       "      <td>62</td>\n",
       "      <td>JARDIM DA PENHA</td>\n",
       "      <td>0</td>\n",
       "      <td>1</td>\n",
       "      <td>0</td>\n",
       "      <td>0</td>\n",
       "      <td>0</td>\n",
       "      <td>0</td>\n",
       "      <td>No</td>\n",
       "    </tr>\n",
       "  </tbody>\n",
       "</table>\n",
       "</div>"
      ],
      "text/plain": [
       "      PatientId  AppointmentID Gender          ScheduledDay  \\\n",
       "0  2.987250e+13        5642903      F  2016-04-29T18:38:08Z   \n",
       "\n",
       "         AppointmentDay  Age    Neighbourhood  Scholarship  Hipertension  \\\n",
       "0  2016-04-29T00:00:00Z   62  JARDIM DA PENHA            0             1   \n",
       "\n",
       "   Diabetes  Alcoholism  Handcap  SMS_received No-show  \n",
       "0         0           0        0             0      No  "
      ]
     },
     "execution_count": 7,
     "metadata": {},
     "output_type": "execute_result"
    }
   ],
   "source": [
    "# Checking df headers and first row data\n",
    "df[:1]"
   ]
  },
  {
   "cell_type": "markdown",
   "metadata": {},
   "source": [
    "### $\\color{orange}{\\text{Programatic Assessment}}$"
   ]
  },
  {
   "cell_type": "code",
   "execution_count": 8,
   "metadata": {
    "scrolled": true
   },
   "outputs": [
    {
     "name": "stdout",
     "output_type": "stream",
     "text": [
      "<class 'pandas.core.frame.DataFrame'>\n",
      "RangeIndex: 110527 entries, 0 to 110526\n",
      "Data columns (total 14 columns):\n",
      "PatientId         110527 non-null float64\n",
      "AppointmentID     110527 non-null int64\n",
      "Gender            110527 non-null object\n",
      "ScheduledDay      110527 non-null object\n",
      "AppointmentDay    110527 non-null object\n",
      "Age               110527 non-null int64\n",
      "Neighbourhood     110527 non-null object\n",
      "Scholarship       110527 non-null int64\n",
      "Hipertension      110527 non-null int64\n",
      "Diabetes          110527 non-null int64\n",
      "Alcoholism        110527 non-null int64\n",
      "Handcap           110527 non-null int64\n",
      "SMS_received      110527 non-null int64\n",
      "No-show           110527 non-null object\n",
      "dtypes: float64(1), int64(8), object(5)\n",
      "memory usage: 11.8+ MB\n"
     ]
    }
   ],
   "source": [
    "# Exploration of df general information and data types\n",
    "df.info()"
   ]
  },
  {
   "cell_type": "markdown",
   "metadata": {},
   "source": [
    "* ScheduledDay and AppointmentDay is in object format, although it should be in datetime format.\n",
    "\n",
    "* Despite No-show values are dichotomous in nature, since a patient has just 2 states; Attended `'Yes'` or missed `'No'` his medical appointment, so it will be converted into 0 and 1, and convert datatype into int; for easier calculations and ploting visualization."
   ]
  },
  {
   "cell_type": "code",
   "execution_count": 9,
   "metadata": {
    "scrolled": true
   },
   "outputs": [
    {
     "data": {
      "text/html": [
       "<div>\n",
       "<style scoped>\n",
       "    .dataframe tbody tr th:only-of-type {\n",
       "        vertical-align: middle;\n",
       "    }\n",
       "\n",
       "    .dataframe tbody tr th {\n",
       "        vertical-align: top;\n",
       "    }\n",
       "\n",
       "    .dataframe thead th {\n",
       "        text-align: right;\n",
       "    }\n",
       "</style>\n",
       "<table border=\"1\" class=\"dataframe\">\n",
       "  <thead>\n",
       "    <tr style=\"text-align: right;\">\n",
       "      <th></th>\n",
       "      <th>PatientId</th>\n",
       "      <th>AppointmentID</th>\n",
       "      <th>Age</th>\n",
       "      <th>Scholarship</th>\n",
       "      <th>Hipertension</th>\n",
       "      <th>Diabetes</th>\n",
       "      <th>Alcoholism</th>\n",
       "      <th>Handcap</th>\n",
       "      <th>SMS_received</th>\n",
       "    </tr>\n",
       "  </thead>\n",
       "  <tbody>\n",
       "    <tr>\n",
       "      <th>count</th>\n",
       "      <td>1.105270e+05</td>\n",
       "      <td>1.105270e+05</td>\n",
       "      <td>110527.000000</td>\n",
       "      <td>110527.000000</td>\n",
       "      <td>110527.000000</td>\n",
       "      <td>110527.000000</td>\n",
       "      <td>110527.000000</td>\n",
       "      <td>110527.000000</td>\n",
       "      <td>110527.000000</td>\n",
       "    </tr>\n",
       "    <tr>\n",
       "      <th>mean</th>\n",
       "      <td>1.474963e+14</td>\n",
       "      <td>5.675305e+06</td>\n",
       "      <td>37.088874</td>\n",
       "      <td>0.098266</td>\n",
       "      <td>0.197246</td>\n",
       "      <td>0.071865</td>\n",
       "      <td>0.030400</td>\n",
       "      <td>0.022248</td>\n",
       "      <td>0.321026</td>\n",
       "    </tr>\n",
       "    <tr>\n",
       "      <th>std</th>\n",
       "      <td>2.560949e+14</td>\n",
       "      <td>7.129575e+04</td>\n",
       "      <td>23.110205</td>\n",
       "      <td>0.297675</td>\n",
       "      <td>0.397921</td>\n",
       "      <td>0.258265</td>\n",
       "      <td>0.171686</td>\n",
       "      <td>0.161543</td>\n",
       "      <td>0.466873</td>\n",
       "    </tr>\n",
       "    <tr>\n",
       "      <th>min</th>\n",
       "      <td>3.921784e+04</td>\n",
       "      <td>5.030230e+06</td>\n",
       "      <td>-1.000000</td>\n",
       "      <td>0.000000</td>\n",
       "      <td>0.000000</td>\n",
       "      <td>0.000000</td>\n",
       "      <td>0.000000</td>\n",
       "      <td>0.000000</td>\n",
       "      <td>0.000000</td>\n",
       "    </tr>\n",
       "    <tr>\n",
       "      <th>25%</th>\n",
       "      <td>4.172614e+12</td>\n",
       "      <td>5.640286e+06</td>\n",
       "      <td>18.000000</td>\n",
       "      <td>0.000000</td>\n",
       "      <td>0.000000</td>\n",
       "      <td>0.000000</td>\n",
       "      <td>0.000000</td>\n",
       "      <td>0.000000</td>\n",
       "      <td>0.000000</td>\n",
       "    </tr>\n",
       "    <tr>\n",
       "      <th>50%</th>\n",
       "      <td>3.173184e+13</td>\n",
       "      <td>5.680573e+06</td>\n",
       "      <td>37.000000</td>\n",
       "      <td>0.000000</td>\n",
       "      <td>0.000000</td>\n",
       "      <td>0.000000</td>\n",
       "      <td>0.000000</td>\n",
       "      <td>0.000000</td>\n",
       "      <td>0.000000</td>\n",
       "    </tr>\n",
       "    <tr>\n",
       "      <th>75%</th>\n",
       "      <td>9.439172e+13</td>\n",
       "      <td>5.725524e+06</td>\n",
       "      <td>55.000000</td>\n",
       "      <td>0.000000</td>\n",
       "      <td>0.000000</td>\n",
       "      <td>0.000000</td>\n",
       "      <td>0.000000</td>\n",
       "      <td>0.000000</td>\n",
       "      <td>1.000000</td>\n",
       "    </tr>\n",
       "    <tr>\n",
       "      <th>max</th>\n",
       "      <td>9.999816e+14</td>\n",
       "      <td>5.790484e+06</td>\n",
       "      <td>115.000000</td>\n",
       "      <td>1.000000</td>\n",
       "      <td>1.000000</td>\n",
       "      <td>1.000000</td>\n",
       "      <td>1.000000</td>\n",
       "      <td>4.000000</td>\n",
       "      <td>1.000000</td>\n",
       "    </tr>\n",
       "  </tbody>\n",
       "</table>\n",
       "</div>"
      ],
      "text/plain": [
       "          PatientId  AppointmentID            Age    Scholarship  \\\n",
       "count  1.105270e+05   1.105270e+05  110527.000000  110527.000000   \n",
       "mean   1.474963e+14   5.675305e+06      37.088874       0.098266   \n",
       "std    2.560949e+14   7.129575e+04      23.110205       0.297675   \n",
       "min    3.921784e+04   5.030230e+06      -1.000000       0.000000   \n",
       "25%    4.172614e+12   5.640286e+06      18.000000       0.000000   \n",
       "50%    3.173184e+13   5.680573e+06      37.000000       0.000000   \n",
       "75%    9.439172e+13   5.725524e+06      55.000000       0.000000   \n",
       "max    9.999816e+14   5.790484e+06     115.000000       1.000000   \n",
       "\n",
       "        Hipertension       Diabetes     Alcoholism        Handcap  \\\n",
       "count  110527.000000  110527.000000  110527.000000  110527.000000   \n",
       "mean        0.197246       0.071865       0.030400       0.022248   \n",
       "std         0.397921       0.258265       0.171686       0.161543   \n",
       "min         0.000000       0.000000       0.000000       0.000000   \n",
       "25%         0.000000       0.000000       0.000000       0.000000   \n",
       "50%         0.000000       0.000000       0.000000       0.000000   \n",
       "75%         0.000000       0.000000       0.000000       0.000000   \n",
       "max         1.000000       1.000000       1.000000       4.000000   \n",
       "\n",
       "        SMS_received  \n",
       "count  110527.000000  \n",
       "mean        0.321026  \n",
       "std         0.466873  \n",
       "min         0.000000  \n",
       "25%         0.000000  \n",
       "50%         0.000000  \n",
       "75%         1.000000  \n",
       "max         1.000000  "
      ]
     },
     "execution_count": 9,
     "metadata": {},
     "output_type": "execute_result"
    }
   ],
   "source": [
    "# Addressing general description of df\n",
    "df.describe()"
   ]
  },
  {
   "cell_type": "code",
   "execution_count": 10,
   "metadata": {
    "scrolled": true
   },
   "outputs": [
    {
     "data": {
      "text/plain": [
       "(110527, 14)"
      ]
     },
     "execution_count": 10,
     "metadata": {},
     "output_type": "execute_result"
    }
   ],
   "source": [
    "# Addressing general description of df\n",
    "df.shape"
   ]
  },
  {
   "cell_type": "code",
   "execution_count": 11,
   "metadata": {},
   "outputs": [
    {
     "data": {
      "text/plain": [
       "0"
      ]
     },
     "execution_count": 11,
     "metadata": {},
     "output_type": "execute_result"
    }
   ],
   "source": [
    "# CHecking for Duplicates records in Patinet ID and Appointment ID columns\n",
    "df[['PatientId', 'AppointmentID']].duplicated().sum()"
   ]
  },
  {
   "cell_type": "markdown",
   "metadata": {},
   "source": [
    "No duplicate records are found, so we can now remove these 2 IDs columns"
   ]
  },
  {
   "cell_type": "code",
   "execution_count": 12,
   "metadata": {},
   "outputs": [
    {
     "data": {
      "text/plain": [
       "0"
      ]
     },
     "execution_count": 12,
     "metadata": {},
     "output_type": "execute_result"
    }
   ],
   "source": [
    "# Finding duplicates \n",
    "df.duplicated().sum()"
   ]
  },
  {
   "cell_type": "markdown",
   "metadata": {},
   "source": [
    "No duplicates were found"
   ]
  },
  {
   "cell_type": "code",
   "execution_count": 13,
   "metadata": {
    "scrolled": true
   },
   "outputs": [
    {
     "data": {
      "text/plain": [
       "PatientId         0\n",
       "AppointmentID     0\n",
       "Gender            0\n",
       "ScheduledDay      0\n",
       "AppointmentDay    0\n",
       "Age               0\n",
       "Neighbourhood     0\n",
       "Scholarship       0\n",
       "Hipertension      0\n",
       "Diabetes          0\n",
       "Alcoholism        0\n",
       "Handcap           0\n",
       "SMS_received      0\n",
       "No-show           0\n",
       "dtype: int64"
      ]
     },
     "execution_count": 13,
     "metadata": {},
     "output_type": "execute_result"
    }
   ],
   "source": [
    "# Finding null records\n",
    "df.isnull().sum()"
   ]
  },
  {
   "cell_type": "markdown",
   "metadata": {},
   "source": [
    "No missing values"
   ]
  },
  {
   "cell_type": "code",
   "execution_count": 14,
   "metadata": {},
   "outputs": [
    {
     "data": {
      "text/html": [
       "<div>\n",
       "<style scoped>\n",
       "    .dataframe tbody tr th:only-of-type {\n",
       "        vertical-align: middle;\n",
       "    }\n",
       "\n",
       "    .dataframe tbody tr th {\n",
       "        vertical-align: top;\n",
       "    }\n",
       "\n",
       "    .dataframe thead th {\n",
       "        text-align: right;\n",
       "    }\n",
       "</style>\n",
       "<table border=\"1\" class=\"dataframe\">\n",
       "  <thead>\n",
       "    <tr style=\"text-align: right;\">\n",
       "      <th></th>\n",
       "      <th>ScheduledDay</th>\n",
       "      <th>AppointmentDay</th>\n",
       "    </tr>\n",
       "  </thead>\n",
       "  <tbody>\n",
       "    <tr>\n",
       "      <th>0</th>\n",
       "      <td>2016-04-29T18:38:08Z</td>\n",
       "      <td>2016-04-29T00:00:00Z</td>\n",
       "    </tr>\n",
       "    <tr>\n",
       "      <th>1</th>\n",
       "      <td>2016-04-29T16:08:27Z</td>\n",
       "      <td>2016-04-29T00:00:00Z</td>\n",
       "    </tr>\n",
       "    <tr>\n",
       "      <th>2</th>\n",
       "      <td>2016-04-29T16:19:04Z</td>\n",
       "      <td>2016-04-29T00:00:00Z</td>\n",
       "    </tr>\n",
       "    <tr>\n",
       "      <th>3</th>\n",
       "      <td>2016-04-29T17:29:31Z</td>\n",
       "      <td>2016-04-29T00:00:00Z</td>\n",
       "    </tr>\n",
       "    <tr>\n",
       "      <th>4</th>\n",
       "      <td>2016-04-29T16:07:23Z</td>\n",
       "      <td>2016-04-29T00:00:00Z</td>\n",
       "    </tr>\n",
       "  </tbody>\n",
       "</table>\n",
       "</div>"
      ],
      "text/plain": [
       "           ScheduledDay        AppointmentDay\n",
       "0  2016-04-29T18:38:08Z  2016-04-29T00:00:00Z\n",
       "1  2016-04-29T16:08:27Z  2016-04-29T00:00:00Z\n",
       "2  2016-04-29T16:19:04Z  2016-04-29T00:00:00Z\n",
       "3  2016-04-29T17:29:31Z  2016-04-29T00:00:00Z\n",
       "4  2016-04-29T16:07:23Z  2016-04-29T00:00:00Z"
      ]
     },
     "execution_count": 14,
     "metadata": {},
     "output_type": "execute_result"
    }
   ],
   "source": [
    "# Checking datatypes for date columns\n",
    "df[['ScheduledDay' , 'AppointmentDay']].head(5)"
   ]
  },
  {
   "cell_type": "markdown",
   "metadata": {},
   "source": [
    "ScheduledDay  and AppointmentDay is not in dateTime format, and should be corrected"
   ]
  },
  {
   "cell_type": "code",
   "execution_count": 15,
   "metadata": {
    "scrolled": true
   },
   "outputs": [
    {
     "data": {
      "text/plain": [
       " 0      3539\n",
       " 1      2273\n",
       " 52     1746\n",
       " 49     1652\n",
       " 53     1651\n",
       " 56     1635\n",
       " 38     1629\n",
       " 59     1624\n",
       " 2      1618\n",
       " 50     1613\n",
       " 57     1603\n",
       " 36     1580\n",
       " 51     1567\n",
       " 19     1545\n",
       " 39     1536\n",
       " 37     1533\n",
       " 54     1530\n",
       " 34     1526\n",
       " 33     1524\n",
       " 30     1521\n",
       " 6      1521\n",
       " 3      1513\n",
       " 17     1509\n",
       " 32     1505\n",
       " 5      1489\n",
       " 44     1487\n",
       " 18     1487\n",
       " 58     1469\n",
       " 46     1460\n",
       " 45     1453\n",
       "        ... \n",
       " 74      602\n",
       " 76      571\n",
       " 75      544\n",
       " 78      541\n",
       " 77      527\n",
       " 80      511\n",
       " 81      434\n",
       " 82      392\n",
       " 79      390\n",
       " 84      311\n",
       " 83      280\n",
       " 85      275\n",
       " 86      260\n",
       " 87      184\n",
       " 89      173\n",
       " 88      126\n",
       " 90      109\n",
       " 92       86\n",
       " 91       66\n",
       " 93       53\n",
       " 94       33\n",
       " 95       24\n",
       " 96       17\n",
       " 97       11\n",
       " 98        6\n",
       " 115       5\n",
       " 100       4\n",
       " 102       2\n",
       " 99        1\n",
       "-1         1\n",
       "Name: Age, Length: 104, dtype: int64"
      ]
     },
     "execution_count": 15,
     "metadata": {},
     "output_type": "execute_result"
    }
   ],
   "source": [
    "# Checking Age categories\n",
    "df.Age.value_counts().sort_values(ascending= False)"
   ]
  },
  {
   "cell_type": "markdown",
   "metadata": {},
   "source": [
    "Age can't be -1, so this record will be removed"
   ]
  },
  {
   "cell_type": "code",
   "execution_count": 16,
   "metadata": {
    "scrolled": false
   },
   "outputs": [
    {
     "data": {
      "text/plain": [
       "0    108286\n",
       "1      2042\n",
       "2       183\n",
       "3        13\n",
       "4         3\n",
       "Name: Handcap, dtype: int64"
      ]
     },
     "execution_count": 16,
     "metadata": {},
     "output_type": "execute_result"
    }
   ],
   "source": [
    "# Checking Handcap values\n",
    "df.Handcap.value_counts().sort_values(ascending=False)"
   ]
  },
  {
   "cell_type": "markdown",
   "metadata": {},
   "source": [
    "After some internet research, there are multiple Catigories for Hanicapped Patients from (1 to 4); All are representing a degree of disability(ies).\n",
    "\n",
    "Since it is an exploratory study, and we dont know yet whether there is a correlation between Handicap in general and the no-shows incidences; so we will combine theses different degrees of handicap into one category and invistigate the correlation in general first."
   ]
  },
  {
   "cell_type": "code",
   "execution_count": 17,
   "metadata": {
    "scrolled": true
   },
   "outputs": [
    {
     "data": {
      "text/plain": [
       "0    99666\n",
       "1    10861\n",
       "Name: Scholarship, dtype: int64"
      ]
     },
     "execution_count": 17,
     "metadata": {},
     "output_type": "execute_result"
    }
   ],
   "source": [
    "# Checking Value counts for Scholarship\n",
    "df.Scholarship.value_counts().sort_values(ascending=False)"
   ]
  },
  {
   "cell_type": "code",
   "execution_count": 18,
   "metadata": {
    "scrolled": false
   },
   "outputs": [
    {
     "data": {
      "text/plain": [
       "0    88726\n",
       "1    21801\n",
       "Name: Hipertension, dtype: int64"
      ]
     },
     "execution_count": 18,
     "metadata": {},
     "output_type": "execute_result"
    }
   ],
   "source": [
    "# Checking Value counts for Hipertension\n",
    "df.Hipertension.value_counts().sort_values(ascending=False)"
   ]
  },
  {
   "cell_type": "code",
   "execution_count": 19,
   "metadata": {
    "scrolled": false
   },
   "outputs": [
    {
     "data": {
      "text/plain": [
       "0    102584\n",
       "1      7943\n",
       "Name: Diabetes, dtype: int64"
      ]
     },
     "execution_count": 19,
     "metadata": {},
     "output_type": "execute_result"
    }
   ],
   "source": [
    "# Checking Value counts for Diabetes\n",
    "df.Diabetes.value_counts().sort_values(ascending=False)"
   ]
  },
  {
   "cell_type": "code",
   "execution_count": 20,
   "metadata": {
    "scrolled": false
   },
   "outputs": [
    {
     "data": {
      "text/plain": [
       "0    107167\n",
       "1      3360\n",
       "Name: Alcoholism, dtype: int64"
      ]
     },
     "execution_count": 20,
     "metadata": {},
     "output_type": "execute_result"
    }
   ],
   "source": [
    "# Checking Value counts for Alcoholism\n",
    "df.Alcoholism.value_counts().sort_values(ascending=False)"
   ]
  },
  {
   "cell_type": "code",
   "execution_count": 21,
   "metadata": {
    "scrolled": false
   },
   "outputs": [
    {
     "data": {
      "text/plain": [
       "No     88208\n",
       "Yes    22319\n",
       "Name: No-show, dtype: int64"
      ]
     },
     "execution_count": 21,
     "metadata": {},
     "output_type": "execute_result"
    }
   ],
   "source": [
    "# Checking Value counts for No-show\n",
    "df['No-show'].value_counts().sort_values(ascending=False)"
   ]
  },
  {
   "cell_type": "markdown",
   "metadata": {},
   "source": [
    "No and Yes records will be converted into 1 and 0 to facilitate calculations and visualizations"
   ]
  },
  {
   "cell_type": "code",
   "execution_count": 22,
   "metadata": {
    "scrolled": true
   },
   "outputs": [
    {
     "data": {
      "text/plain": [
       "count      81.000000\n",
       "mean     1364.530864\n",
       "std      1369.199539\n",
       "min         1.000000\n",
       "25%       413.000000\n",
       "50%       851.000000\n",
       "75%      2018.000000\n",
       "max      7717.000000\n",
       "Name: Neighbourhood, dtype: float64"
      ]
     },
     "execution_count": 22,
     "metadata": {},
     "output_type": "execute_result"
    }
   ],
   "source": [
    "# Checking for Neighbourhood values cleanliness and outliers\n",
    "df.Neighbourhood.value_counts().describe()"
   ]
  },
  {
   "cell_type": "code",
   "execution_count": 23,
   "metadata": {
    "scrolled": true
   },
   "outputs": [
    {
     "data": {
      "text/plain": [
       "851.0"
      ]
     },
     "execution_count": 23,
     "metadata": {},
     "output_type": "execute_result"
    }
   ],
   "source": [
    "# Checking for Neighbourhood values cleanliness and outliers\n",
    "df.Neighbourhood.value_counts().median()"
   ]
  },
  {
   "cell_type": "code",
   "execution_count": 24,
   "metadata": {},
   "outputs": [
    {
     "data": {
      "text/plain": [
       "array(['JARDIM DA PENHA', 'MATA DA PRAIA', 'PONTAL DE CAMBURI',\n",
       "       'REPÚBLICA', 'GOIABEIRAS', 'ANDORINHAS', 'CONQUISTA',\n",
       "       'NOVA PALESTINA', 'DA PENHA', 'TABUAZEIRO', 'BENTO FERREIRA',\n",
       "       'SÃO PEDRO', 'SANTA MARTHA', 'SÃO CRISTÓVÃO', 'MARUÍPE',\n",
       "       'GRANDE VITÓRIA', 'SÃO BENEDITO', 'ILHA DAS CAIEIRAS',\n",
       "       'SANTO ANDRÉ', 'SOLON BORGES', 'BONFIM', 'JARDIM CAMBURI',\n",
       "       'MARIA ORTIZ', 'JABOUR', 'ANTÔNIO HONÓRIO', 'RESISTÊNCIA',\n",
       "       'ILHA DE SANTA MARIA', 'JUCUTUQUARA', 'MONTE BELO',\n",
       "       'MÁRIO CYPRESTE', 'SANTO ANTÔNIO', 'BELA VISTA', 'PRAIA DO SUÁ',\n",
       "       'SANTA HELENA', 'ITARARÉ', 'INHANGUETÁ', 'UNIVERSITÁRIO',\n",
       "       'SÃO JOSÉ', 'REDENÇÃO', 'SANTA CLARA', 'CENTRO', 'PARQUE MOSCOSO',\n",
       "       'DO MOSCOSO', 'SANTOS DUMONT', 'CARATOÍRA', 'ARIOVALDO FAVALESSA',\n",
       "       'ILHA DO FRADE', 'GURIGICA', 'JOANA D´ARC', 'CONSOLAÇÃO',\n",
       "       'PRAIA DO CANTO', 'BOA VISTA', 'MORADA DE CAMBURI', 'SANTA LUÍZA',\n",
       "       'SANTA LÚCIA', 'BARRO VERMELHO', 'ESTRELINHA', 'FORTE SÃO JOÃO',\n",
       "       'FONTE GRANDE', 'ENSEADA DO SUÁ', 'SANTOS REIS', 'PIEDADE',\n",
       "       'JESUS DE NAZARETH', 'SANTA TEREZA', 'CRUZAMENTO',\n",
       "       'ILHA DO PRÍNCIPE', 'ROMÃO', 'COMDUSA', 'SANTA CECÍLIA',\n",
       "       'VILA RUBIM', 'DE LOURDES', 'DO QUADRO', 'DO CABRAL', 'HORTO',\n",
       "       'SEGURANÇA DO LAR', 'ILHA DO BOI', 'FRADINHOS', 'NAZARETH',\n",
       "       'AEROPORTO', 'ILHAS OCEÂNICAS DE TRINDADE', 'PARQUE INDUSTRIAL'], dtype=object)"
      ]
     },
     "execution_count": 24,
     "metadata": {},
     "output_type": "execute_result"
    }
   ],
   "source": [
    "# Checking values naming in Neighbourhood\n",
    "df.Neighbourhood.unique()"
   ]
  },
  {
   "cell_type": "markdown",
   "metadata": {},
   "source": [
    "Neighbourhood entries naming seems to be ok with some outliers; shifting the mean upward"
   ]
  },
  {
   "cell_type": "markdown",
   "metadata": {},
   "source": [
    "### $\\color{orange}{\\text{Summary of Observations \"Cleaning Issues\":}}$\n",
    "\n",
    "* Bad Columns Names such as: {'Hipertension','Handcap','No-show'}\n",
    "* Unnecessary columns such as: {'PatientId', 'AppointmentID'}\n",
    "* Wrong Data Types in `'ScheduledDay'`  and `'AppointmentDay'` columns, so it will be converted into Datetime datatype.\n",
    "* Incorrrect data such as -1 in Age column, so it will be eliminated.\n",
    "* Handicapped \n",
    "* Columns from Scholarship till SMS_received should be dichotomus (contians only 2 distinct values; 0 and 1 for False and True entries) and should ALL be in in int datatype so:\n",
    "\n",
    "> * `Handcap`: Although it is in int datatype; it contains values are from 0 till 4; where 0 indicates \"Not a Handicapped Patient\"; while the other values from 1 to 4 indicate 4 categories/degrees of disabilities, and so it will be combined into one category.\n",
    "\n",
    "> * `No-show`: Despite being dichotomus, but it appears as an object datatype,because of the prescence of No' and 'Yes' in; so for easier data plotting and analysis; it will be converted into int 0 and 1 and consequently an int datatype.\n",
    "\n",
    "> * Finally, we will ensure that all of these dichotoumus columns are presented in 0 and 1; and in an int datatype; to make the calculations and visualizations much simpler and easier.\n"
   ]
  },
  {
   "cell_type": "markdown",
   "metadata": {},
   "source": [
    "\n",
    "\n",
    "### $\\color{orange}{\\text{Cleaning Steps}}$"
   ]
  },
  {
   "cell_type": "code",
   "execution_count": 25,
   "metadata": {},
   "outputs": [],
   "source": [
    "# Renaming bad columns names\n",
    "df.rename(columns={'Hipertension':'Hypertension','Handcap':'Handicapped','No-show':'No_show'},inplace=True)"
   ]
  },
  {
   "cell_type": "code",
   "execution_count": 26,
   "metadata": {},
   "outputs": [
    {
     "data": {
      "text/plain": [
       "Index(['PatientId', 'AppointmentID', 'Gender', 'ScheduledDay',\n",
       "       'AppointmentDay', 'Age', 'Neighbourhood', 'Scholarship', 'Hypertension',\n",
       "       'Diabetes', 'Alcoholism', 'Handicapped', 'SMS_received', 'No_show'],\n",
       "      dtype='object')"
      ]
     },
     "execution_count": 26,
     "metadata": {},
     "output_type": "execute_result"
    }
   ],
   "source": [
    "# Testing for renaming step\n",
    "df.columns"
   ]
  },
  {
   "cell_type": "code",
   "execution_count": 27,
   "metadata": {},
   "outputs": [],
   "source": [
    "# Dropping unnecessary columns Patient id and appointment id\n",
    "df.drop(['PatientId' , 'AppointmentID'], axis=1, inplace=True)"
   ]
  },
  {
   "cell_type": "code",
   "execution_count": 28,
   "metadata": {},
   "outputs": [
    {
     "data": {
      "text/plain": [
       "Index(['Gender', 'ScheduledDay', 'AppointmentDay', 'Age', 'Neighbourhood',\n",
       "       'Scholarship', 'Hypertension', 'Diabetes', 'Alcoholism', 'Handicapped',\n",
       "       'SMS_received', 'No_show'],\n",
       "      dtype='object')"
      ]
     },
     "execution_count": 28,
     "metadata": {},
     "output_type": "execute_result"
    }
   ],
   "source": [
    "# Testing if the unnecessary columns has been dropped\n",
    "df.columns"
   ]
  },
  {
   "cell_type": "code",
   "execution_count": 29,
   "metadata": {},
   "outputs": [
    {
     "data": {
      "text/plain": [
       "0    2016-04-29T18:38:08Z\n",
       "1    2016-04-29T16:08:27Z\n",
       "Name: ScheduledDay, dtype: object"
      ]
     },
     "execution_count": 29,
     "metadata": {},
     "output_type": "execute_result"
    }
   ],
   "source": [
    "# Checking Data Type before conversion\n",
    "df.ScheduledDay.head(2)"
   ]
  },
  {
   "cell_type": "code",
   "execution_count": 30,
   "metadata": {
    "scrolled": true
   },
   "outputs": [
    {
     "data": {
      "text/plain": [
       "0   2016-04-29 18:38:08\n",
       "1   2016-04-29 16:08:27\n",
       "Name: ScheduledDay, dtype: datetime64[ns]"
      ]
     },
     "execution_count": 30,
     "metadata": {},
     "output_type": "execute_result"
    }
   ],
   "source": [
    "# Correcting Data types of dates of Scheduling \n",
    "df.ScheduledDay = pd.to_datetime(df.ScheduledDay)\n",
    "\n",
    "# Checking conversion\n",
    "df.ScheduledDay.head(2)"
   ]
  },
  {
   "cell_type": "code",
   "execution_count": 31,
   "metadata": {},
   "outputs": [
    {
     "data": {
      "text/plain": [
       "0    2016-04-29T00:00:00Z\n",
       "1    2016-04-29T00:00:00Z\n",
       "Name: AppointmentDay, dtype: object"
      ]
     },
     "execution_count": 31,
     "metadata": {},
     "output_type": "execute_result"
    }
   ],
   "source": [
    "# Checking Data Type of dates of Appointments before conversion\n",
    "df.AppointmentDay.head(2)"
   ]
  },
  {
   "cell_type": "code",
   "execution_count": 32,
   "metadata": {
    "scrolled": true
   },
   "outputs": [
    {
     "data": {
      "text/plain": [
       "0   2016-04-29\n",
       "1   2016-04-29\n",
       "Name: AppointmentDay, dtype: datetime64[ns]"
      ]
     },
     "execution_count": 32,
     "metadata": {},
     "output_type": "execute_result"
    }
   ],
   "source": [
    "# Correcting Data types of dates of Appointments\n",
    "df.AppointmentDay = pd.to_datetime(df.AppointmentDay)\n",
    "\n",
    "# Checking conversion\n",
    "df.AppointmentDay.head(2)"
   ]
  },
  {
   "cell_type": "code",
   "execution_count": 33,
   "metadata": {},
   "outputs": [
    {
     "data": {
      "text/html": [
       "<div>\n",
       "<style scoped>\n",
       "    .dataframe tbody tr th:only-of-type {\n",
       "        vertical-align: middle;\n",
       "    }\n",
       "\n",
       "    .dataframe tbody tr th {\n",
       "        vertical-align: top;\n",
       "    }\n",
       "\n",
       "    .dataframe thead th {\n",
       "        text-align: right;\n",
       "    }\n",
       "</style>\n",
       "<table border=\"1\" class=\"dataframe\">\n",
       "  <thead>\n",
       "    <tr style=\"text-align: right;\">\n",
       "      <th></th>\n",
       "      <th>ScheduledDay</th>\n",
       "      <th>AppointmentDay</th>\n",
       "    </tr>\n",
       "  </thead>\n",
       "  <tbody>\n",
       "    <tr>\n",
       "      <th>count</th>\n",
       "      <td>110527</td>\n",
       "      <td>110527</td>\n",
       "    </tr>\n",
       "    <tr>\n",
       "      <th>unique</th>\n",
       "      <td>103549</td>\n",
       "      <td>27</td>\n",
       "    </tr>\n",
       "    <tr>\n",
       "      <th>top</th>\n",
       "      <td>2016-05-06 07:09:54</td>\n",
       "      <td>2016-06-06 00:00:00</td>\n",
       "    </tr>\n",
       "    <tr>\n",
       "      <th>freq</th>\n",
       "      <td>24</td>\n",
       "      <td>4692</td>\n",
       "    </tr>\n",
       "    <tr>\n",
       "      <th>first</th>\n",
       "      <td>2015-11-10 07:13:56</td>\n",
       "      <td>2016-04-29 00:00:00</td>\n",
       "    </tr>\n",
       "    <tr>\n",
       "      <th>last</th>\n",
       "      <td>2016-06-08 20:07:23</td>\n",
       "      <td>2016-06-08 00:00:00</td>\n",
       "    </tr>\n",
       "  </tbody>\n",
       "</table>\n",
       "</div>"
      ],
      "text/plain": [
       "               ScheduledDay       AppointmentDay\n",
       "count                110527               110527\n",
       "unique               103549                   27\n",
       "top     2016-05-06 07:09:54  2016-06-06 00:00:00\n",
       "freq                     24                 4692\n",
       "first   2015-11-10 07:13:56  2016-04-29 00:00:00\n",
       "last    2016-06-08 20:07:23  2016-06-08 00:00:00"
      ]
     },
     "execution_count": 33,
     "metadata": {},
     "output_type": "execute_result"
    }
   ],
   "source": [
    "# Exploring ScheduledDay and AppointmentDay values description\n",
    "df[['ScheduledDay','AppointmentDay']].describe()"
   ]
  },
  {
   "cell_type": "code",
   "execution_count": 34,
   "metadata": {
    "scrolled": true
   },
   "outputs": [
    {
     "data": {
      "text/plain": [
       "99832   -1\n",
       "Name: Age, dtype: int64"
      ]
     },
     "execution_count": 34,
     "metadata": {},
     "output_type": "execute_result"
    }
   ],
   "source": [
    "# Adressing Age with -1 value row\n",
    "df.Age[df.Age == -1]"
   ]
  },
  {
   "cell_type": "code",
   "execution_count": 35,
   "metadata": {},
   "outputs": [],
   "source": [
    "# Dropping Entire erranous row\n",
    "df.drop(df.Age[df.Age == -1].index,inplace=True)"
   ]
  },
  {
   "cell_type": "code",
   "execution_count": 36,
   "metadata": {},
   "outputs": [
    {
     "data": {
      "text/plain": [
       "Series([], Name: Age, dtype: int64)"
      ]
     },
     "execution_count": 36,
     "metadata": {},
     "output_type": "execute_result"
    }
   ],
   "source": [
    "# Checking if the entire row of Age = -1 is removed\n",
    "df.Age[df.Age == -1]"
   ]
  },
  {
   "cell_type": "code",
   "execution_count": 37,
   "metadata": {},
   "outputs": [
    {
     "data": {
      "text/plain": [
       "0    108285\n",
       "1      2042\n",
       "2       183\n",
       "3        13\n",
       "4         3\n",
       "Name: Handicapped, dtype: int64"
      ]
     },
     "execution_count": 37,
     "metadata": {},
     "output_type": "execute_result"
    }
   ],
   "source": [
    "# Checking Handicapped column entire values before conversion\n",
    "df.Handicapped.value_counts()"
   ]
  },
  {
   "cell_type": "code",
   "execution_count": 38,
   "metadata": {
    "scrolled": false
   },
   "outputs": [
    {
     "data": {
      "text/plain": [
       "1    2042\n",
       "2     183\n",
       "3      13\n",
       "4       3\n",
       "Name: Handicapped, dtype: int64"
      ]
     },
     "execution_count": 38,
     "metadata": {},
     "output_type": "execute_result"
    }
   ],
   "source": [
    "# Checking specific Handicapped Values to be converted into 1 before conversion\n",
    "df.Handicapped[df.Handicapped != 0].value_counts()"
   ]
  },
  {
   "cell_type": "code",
   "execution_count": 39,
   "metadata": {
    "scrolled": false
   },
   "outputs": [
    {
     "name": "stderr",
     "output_type": "stream",
     "text": [
      "/opt/conda/lib/python3.6/site-packages/pandas/core/indexing.py:189: SettingWithCopyWarning: \n",
      "A value is trying to be set on a copy of a slice from a DataFrame\n",
      "\n",
      "See the caveats in the documentation: http://pandas.pydata.org/pandas-docs/stable/indexing.html#indexing-view-versus-copy\n",
      "  self._setitem_with_indexer(indexer, value)\n"
     ]
    }
   ],
   "source": [
    "# Converting 4 degrees of handicapped categories into one general category for the handicapped patients; regardless of the degree of the disability\n",
    "\n",
    "df.Handicapped.loc[df.Handicapped != 0]=1"
   ]
  },
  {
   "cell_type": "code",
   "execution_count": 40,
   "metadata": {},
   "outputs": [
    {
     "data": {
      "text/plain": [
       "1    2241\n",
       "Name: Handicapped, dtype: int64"
      ]
     },
     "execution_count": 40,
     "metadata": {},
     "output_type": "execute_result"
    }
   ],
   "source": [
    "# Checking specific Handicapped converted values after conversion, to ensure that all values became 1\n",
    "df.Handicapped[df.Handicapped != 0].value_counts()"
   ]
  },
  {
   "cell_type": "code",
   "execution_count": 41,
   "metadata": {
    "scrolled": true
   },
   "outputs": [
    {
     "data": {
      "text/plain": [
       "0    108285\n",
       "1      2241\n",
       "Name: Handicapped, dtype: int64"
      ]
     },
     "execution_count": 41,
     "metadata": {},
     "output_type": "execute_result"
    }
   ],
   "source": [
    "# Checking ENTIRE Handicapped Values after conversion\n",
    "df.Handicapped.value_counts()"
   ]
  },
  {
   "cell_type": "markdown",
   "metadata": {},
   "source": [
    "> Triggered SettingWithCopyWarning didn't affect the desired result, and now the Handicapped column contains only 0 and 1 (dichotomous) and is in int datatype. as planned.\n",
    "\n",
    "> N.B. we can simply disable the warrnig using this code ` pd.options.mode.chained_assignment = None`, but since it is useful in some situation, we will keep the default warrnig settings."
   ]
  },
  {
   "cell_type": "code",
   "execution_count": 42,
   "metadata": {},
   "outputs": [
    {
     "data": {
      "text/plain": [
       "No     88207\n",
       "Yes    22319\n",
       "Name: No_show, dtype: int64"
      ]
     },
     "execution_count": 42,
     "metadata": {},
     "output_type": "execute_result"
    }
   ],
   "source": [
    "# Checking No_show Values before conversion of No nad Yes into 0 and 1\n",
    "df.No_show.value_counts()"
   ]
  },
  {
   "cell_type": "code",
   "execution_count": 43,
   "metadata": {},
   "outputs": [],
   "source": [
    "# Conversion of No and Yes into 0 and 1\n",
    "df.No_show.replace({'No':0,'Yes': 1}, inplace=True)"
   ]
  },
  {
   "cell_type": "code",
   "execution_count": 44,
   "metadata": {},
   "outputs": [
    {
     "data": {
      "text/plain": [
       "0    88207\n",
       "1    22319\n",
       "Name: No_show, dtype: int64"
      ]
     },
     "execution_count": 44,
     "metadata": {},
     "output_type": "execute_result"
    }
   ],
   "source": [
    "# Checking No_show Values after conversion\n",
    "df.No_show.value_counts()"
   ]
  },
  {
   "cell_type": "code",
   "execution_count": 45,
   "metadata": {},
   "outputs": [
    {
     "name": "stdout",
     "output_type": "stream",
     "text": [
      "0    99665\n",
      "1    10861\n",
      "Name: Scholarship, dtype: int64\n",
      "\n",
      "\n",
      "0    88725\n",
      "1    21801\n",
      "Name: Hypertension, dtype: int64\n",
      "\n",
      "\n",
      "0    102583\n",
      "1      7943\n",
      "Name: Diabetes, dtype: int64\n",
      "\n",
      "\n",
      "0    107166\n",
      "1      3360\n",
      "Name: Alcoholism, dtype: int64\n",
      "\n",
      "\n",
      "0    108285\n",
      "1      2241\n",
      "Name: Handicapped, dtype: int64\n",
      "\n",
      "\n",
      "0    75044\n",
      "1    35482\n",
      "Name: SMS_received, dtype: int64\n",
      "\n",
      "\n",
      "0    88207\n",
      "1    22319\n",
      "Name: No_show, dtype: int64\n",
      "\n",
      "\n"
     ]
    }
   ],
   "source": [
    "# Checking the entire dichotomous coloumns to ensure that they all include either 0 or 1 and are in int64 datatype\n",
    "# Making s list for them\n",
    "dichotomous_headers = ['Scholarship', 'Hypertension', 'Diabetes', 'Alcoholism', 'Handicapped',\n",
    "       'SMS_received', 'No_show']\n",
    "# Checking thei value counts and datatypes all at once\n",
    "for header in df[dichotomous_headers]:\n",
    "    print(df[header].value_counts())\n",
    "    print('\\n')"
   ]
  },
  {
   "cell_type": "code",
   "execution_count": 46,
   "metadata": {
    "scrolled": false
   },
   "outputs": [
    {
     "name": "stdout",
     "output_type": "stream",
     "text": [
      "<class 'pandas.core.frame.DataFrame'>\n",
      "Int64Index: 110526 entries, 0 to 110526\n",
      "Data columns (total 12 columns):\n",
      "Gender            110526 non-null object\n",
      "ScheduledDay      110526 non-null datetime64[ns]\n",
      "AppointmentDay    110526 non-null datetime64[ns]\n",
      "Age               110526 non-null int64\n",
      "Neighbourhood     110526 non-null object\n",
      "Scholarship       110526 non-null int64\n",
      "Hypertension      110526 non-null int64\n",
      "Diabetes          110526 non-null int64\n",
      "Alcoholism        110526 non-null int64\n",
      "Handicapped       110526 non-null int64\n",
      "SMS_received      110526 non-null int64\n",
      "No_show           110526 non-null int64\n",
      "dtypes: datetime64[ns](2), int64(8), object(2)\n",
      "memory usage: 11.0+ MB\n"
     ]
    },
    {
     "data": {
      "text/plain": [
       "(None,                  Age    Scholarship   Hypertension       Diabetes  \\\n",
       " count  110526.000000  110526.000000  110526.000000  110526.000000   \n",
       " mean       37.089219       0.098266       0.197248       0.071865   \n",
       " std        23.110026       0.297676       0.397923       0.258266   \n",
       " min         0.000000       0.000000       0.000000       0.000000   \n",
       " 25%        18.000000       0.000000       0.000000       0.000000   \n",
       " 50%        37.000000       0.000000       0.000000       0.000000   \n",
       " 75%        55.000000       0.000000       0.000000       0.000000   \n",
       " max       115.000000       1.000000       1.000000       1.000000   \n",
       " \n",
       "           Alcoholism    Handicapped   SMS_received        No_show  \n",
       " count  110526.000000  110526.000000  110526.000000  110526.000000  \n",
       " mean        0.030400       0.020276       0.321029       0.201934  \n",
       " std         0.171686       0.140943       0.466874       0.401445  \n",
       " min         0.000000       0.000000       0.000000       0.000000  \n",
       " 25%         0.000000       0.000000       0.000000       0.000000  \n",
       " 50%         0.000000       0.000000       0.000000       0.000000  \n",
       " 75%         0.000000       0.000000       1.000000       0.000000  \n",
       " max         1.000000       1.000000       1.000000       1.000000  )"
      ]
     },
     "execution_count": 46,
     "metadata": {},
     "output_type": "execute_result"
    }
   ],
   "source": [
    "# Checking the entire dataframe after cleaning\n",
    "df.info(), df.describe()"
   ]
  },
  {
   "cell_type": "code",
   "execution_count": 47,
   "metadata": {
    "scrolled": true
   },
   "outputs": [
    {
     "data": {
      "text/html": [
       "<div>\n",
       "<style scoped>\n",
       "    .dataframe tbody tr th:only-of-type {\n",
       "        vertical-align: middle;\n",
       "    }\n",
       "\n",
       "    .dataframe tbody tr th {\n",
       "        vertical-align: top;\n",
       "    }\n",
       "\n",
       "    .dataframe thead th {\n",
       "        text-align: right;\n",
       "    }\n",
       "</style>\n",
       "<table border=\"1\" class=\"dataframe\">\n",
       "  <thead>\n",
       "    <tr style=\"text-align: right;\">\n",
       "      <th></th>\n",
       "      <th>Gender</th>\n",
       "      <th>ScheduledDay</th>\n",
       "      <th>AppointmentDay</th>\n",
       "      <th>Age</th>\n",
       "      <th>Neighbourhood</th>\n",
       "      <th>Scholarship</th>\n",
       "      <th>Hypertension</th>\n",
       "      <th>Diabetes</th>\n",
       "      <th>Alcoholism</th>\n",
       "      <th>Handicapped</th>\n",
       "      <th>SMS_received</th>\n",
       "      <th>No_show</th>\n",
       "    </tr>\n",
       "  </thead>\n",
       "  <tbody>\n",
       "    <tr>\n",
       "      <th>0</th>\n",
       "      <td>F</td>\n",
       "      <td>2016-04-29 18:38:08</td>\n",
       "      <td>2016-04-29</td>\n",
       "      <td>62</td>\n",
       "      <td>JARDIM DA PENHA</td>\n",
       "      <td>0</td>\n",
       "      <td>1</td>\n",
       "      <td>0</td>\n",
       "      <td>0</td>\n",
       "      <td>0</td>\n",
       "      <td>0</td>\n",
       "      <td>0</td>\n",
       "    </tr>\n",
       "  </tbody>\n",
       "</table>\n",
       "</div>"
      ],
      "text/plain": [
       "  Gender        ScheduledDay AppointmentDay  Age    Neighbourhood  \\\n",
       "0      F 2016-04-29 18:38:08     2016-04-29   62  JARDIM DA PENHA   \n",
       "\n",
       "   Scholarship  Hypertension  Diabetes  Alcoholism  Handicapped  SMS_received  \\\n",
       "0            0             1         0           0            0             0   \n",
       "\n",
       "   No_show  \n",
       "0        0  "
      ]
     },
     "execution_count": 47,
     "metadata": {},
     "output_type": "execute_result"
    }
   ],
   "source": [
    "# Showing first line of the cleaned data\n",
    "df.loc[:0]"
   ]
  },
  {
   "cell_type": "markdown",
   "metadata": {},
   "source": [
    ">`Now the dataframe is cleaned and ready for the exploration part`"
   ]
  },
  {
   "cell_type": "markdown",
   "metadata": {},
   "source": [
    "<a id='eda'></a>\n",
    "## Exploratory Data Analysis\n",
    "\n",
    "\n"
   ]
  },
  {
   "cell_type": "markdown",
   "metadata": {},
   "source": [
    "This part is composed of:\n",
    "\n",
    " A) `Explore the major Characterstics of diffrent Variables` of the dataset, to deepen our understanding of the dataset context, that will guide us...\n",
    "\n",
    " B) Exploring the deep correlation between variables in the second part; `Answering Research Questions`, and finally to ...\n",
    "\n",
    " C) Draw out solid `conclusions`.\n"
   ]
  },
  {
   "cell_type": "markdown",
   "metadata": {},
   "source": [
    "### A) Exploring the Major Characteristics of the Dataset\n",
    "\n",
    "\n",
    "\n",
    "\n",
    "\n",
    "\n",
    "\n",
    "\n"
   ]
  },
  {
   "cell_type": "code",
   "execution_count": 48,
   "metadata": {},
   "outputs": [],
   "source": [
    "# Making a mask for the No-show Patients data and another one for the attended Patients, to be used onward\n",
    "attended_pts = df.loc[df.No_show == 0]\n",
    "missed_pts = df.loc[df.No_show == 1]"
   ]
  },
  {
   "cell_type": "code",
   "execution_count": 49,
   "metadata": {
    "scrolled": true
   },
   "outputs": [
    {
     "data": {
      "image/png": "[encoded data removed]",
      "text/plain": [
       "<matplotlib.figure.Figure at 0x7f63ae222cc0>"
      ]
     },
     "metadata": {
      "needs_background": "light"
     },
     "output_type": "display_data"
    }
   ],
   "source": [
    "# Exploring Variables by histogram\n",
    "df.hist(figsize=(12,8));"
   ]
  },
  {
   "cell_type": "markdown",
   "metadata": {},
   "source": [
    "### - Attended to Missed Appointment Patients:\n",
    "\n",
    "> Attended to missed appointment Patients ratio is 3.95; \n",
    "\n",
    "`Almost 1 in 4 Patient missed their medical Appointment`"
   ]
  },
  {
   "cell_type": "code",
   "execution_count": 50,
   "metadata": {
    "scrolled": true
   },
   "outputs": [
    {
     "data": {
      "text/plain": [
       "0    88207\n",
       "1    22319\n",
       "Name: No_show, dtype: int64"
      ]
     },
     "execution_count": 50,
     "metadata": {},
     "output_type": "execute_result"
    }
   ],
   "source": [
    "# Attended to Missed Counts\n",
    "df.No_show.value_counts()"
   ]
  },
  {
   "cell_type": "code",
   "execution_count": 51,
   "metadata": {
    "scrolled": true
   },
   "outputs": [
    {
     "name": "stdout",
     "output_type": "stream",
     "text": [
      "Attended to missed appointment Patients ratio is 3.95\n"
     ]
    },
    {
     "data": {
      "image/png": "[encoded data removed]",
      "text/plain": [
       "<matplotlib.figure.Figure at 0x7f63ade26438>"
      ]
     },
     "metadata": {},
     "output_type": "display_data"
    }
   ],
   "source": [
    "attended_to_missed_ratio = round(attended_pts.No_show.count()/missed_pts.No_show.count(),2)\n",
    "print('Attended to missed appointment Patients ratio is',attended_to_missed_ratio)\n",
    "df['No_show'].value_counts().plot(kind='pie',labels=[\"Attended\",\"Missed\"],   autopct='%1.0f%%')\n",
    "plt.ylabel(\"Count\")\n",
    "plt.title(\"Patients Appointment Attendance\");"
   ]
  },
  {
   "cell_type": "markdown",
   "metadata": {},
   "source": [
    "### - Female to Male ratio:\n",
    "> Female to Male ratio is 1.9; \n",
    "\n",
    "`Females are almost double men in the dataset representing 65% of total patients`."
   ]
  },
  {
   "cell_type": "code",
   "execution_count": 52,
   "metadata": {
    "scrolled": true
   },
   "outputs": [
    {
     "data": {
      "text/plain": [
       "F    71839\n",
       "M    38687\n",
       "Name: Gender, dtype: int64"
      ]
     },
     "execution_count": 52,
     "metadata": {},
     "output_type": "execute_result"
    }
   ],
   "source": [
    "# Female to Male Counts\n",
    "df.Gender.value_counts()"
   ]
  },
  {
   "cell_type": "code",
   "execution_count": 53,
   "metadata": {
    "scrolled": true
   },
   "outputs": [
    {
     "name": "stdout",
     "output_type": "stream",
     "text": [
      "Female to Male ratio is 1.9\n"
     ]
    },
    {
     "data": {
      "image/png": "[encoded data removed]",
      "text/plain": [
       "<matplotlib.figure.Figure at 0x7f63adf4ee80>"
      ]
     },
     "metadata": {},
     "output_type": "display_data"
    }
   ],
   "source": [
    "# Showing the Female to Male ratio% in the dataset\n",
    "df.Gender.value_counts().plot(kind=\"pie\",labels=[\"Females\",\"Males\"],   autopct='%1.0f%%')\n",
    "plt.ylabel(\"Count\")\n",
    "plt.title(\"Gender\");\n",
    "print('Female to Male ratio is', round((df.Gender == 'F').sum()/(df.Gender == 'M').sum(),1))"
   ]
  },
  {
   "cell_type": "markdown",
   "metadata": {},
   "source": [
    "### - Received to Not Received SMS Patients:\n",
    "> Received to Not Received SMS Patients is 0.47;\n",
    "\n",
    "`Almost 70% of patients didn't receive sms`."
   ]
  },
  {
   "cell_type": "code",
   "execution_count": 54,
   "metadata": {},
   "outputs": [
    {
     "data": {
      "text/plain": [
       "0    75044\n",
       "1    35482\n",
       "Name: SMS_received, dtype: int64"
      ]
     },
     "execution_count": 54,
     "metadata": {},
     "output_type": "execute_result"
    }
   ],
   "source": [
    "# Received to Not Received Counts\n",
    "df.SMS_received.value_counts()"
   ]
  },
  {
   "cell_type": "code",
   "execution_count": null,
   "metadata": {},
   "outputs": [],
   "source": []
  },
  {
   "cell_type": "code",
   "execution_count": 55,
   "metadata": {
    "scrolled": false
   },
   "outputs": [
    {
     "name": "stdout",
     "output_type": "stream",
     "text": [
      "Received to Not Received SMS Patients is 0.47\n"
     ]
    },
    {
     "data": {
      "image/png": "[encoded data removed]",
      "text/plain": [
       "<matplotlib.figure.Figure at 0x7f63adf038d0>"
      ]
     },
     "metadata": {},
     "output_type": "display_data"
    }
   ],
   "source": [
    "# Showing the Female to Male ratio% in the dataset\n",
    "print('Received to Not Received SMS Patients is', round((df.SMS_received == 1).sum()/(df.SMS_received == 0).sum(),2))\n",
    "df.SMS_received.value_counts().plot(kind=\"pie\",labels=[\"Not Received\",\"Received\"],   autopct='%1.0f%%')\n",
    "plt.ylabel(\"Count\")\n",
    "plt.title(\"SMS Receipt\");"
   ]
  },
  {
   "cell_type": "markdown",
   "metadata": {},
   "source": [
    "### - Addressing No_shows incidences across Variables:"
   ]
  },
  {
   "cell_type": "markdown",
   "metadata": {},
   "source": [
    "> Addressing % Attended and Missed Appointment of each Variable and in each subgroup of each variable; should guide us spotting correlations with No_shows incidences, in order to answer the Research Quesitons"
   ]
  },
  {
   "cell_type": "markdown",
   "metadata": {},
   "source": [
    "#### - Gender"
   ]
  },
  {
   "cell_type": "code",
   "execution_count": 56,
   "metadata": {
    "scrolled": false
   },
   "outputs": [
    {
     "name": "stdout",
     "output_type": "stream",
     "text": [
      "Percentage of Females of Total Patients is\n",
      " 64.997376183\n",
      "Percentage of Males of Total Patients is\n",
      " 35.0\n",
      "Percentage of Female Patients who missed their appointment to total Female Patients is\n",
      " 20.31\n",
      "Percentage of Male Patients who missed their appointment to total Male Patients is\n",
      " 19.97\n",
      "\n",
      " Gender  No_show\n",
      "F       0          57245\n",
      "        1          14594\n",
      "M       0          30962\n",
      "        1           7725\n",
      "Name: No_show, dtype: int64\n"
     ]
    },
    {
     "data": {
      "image/png": "[encoded data removed]",
      "text/plain": [
       "<matplotlib.figure.Figure at 0x7f63adcf8208>"
      ]
     },
     "metadata": {
      "needs_background": "light"
     },
     "output_type": "display_data"
    }
   ],
   "source": [
    "# Calculating % across Females and Males who attended and Missed their appointments\n",
    "# Assigning a mask\n",
    "gender_stacked = df.groupby('Gender')['No_show'].value_counts()\n",
    "gender_stacked.unstack().plot(kind=\"bar\",stacked=True)\n",
    "# Plotting the Stacked bar plot\n",
    "plt.legend(['Attended','Missed'])\n",
    "plt.title('Proportion of Females and Males Attended and Missed Appointment');\n",
    "# Running Calculations\n",
    "print('Percentage of Females of Total Patients is\\n',(gender_stacked.F.sum()/gender_stacked.sum())*100)\n",
    "print('Percentage of Males of Total Patients is\\n',round((gender_stacked.M.sum()/gender_stacked.sum())*100,2))\n",
    "print('Percentage of Female Patients who missed their appointment to total Female Patients is\\n',round((gender_stacked.F[1]/gender_stacked.F.sum())*100,2))\n",
    "print('Percentage of Male Patients who missed their appointment to total Male Patients is\\n',round((gender_stacked.M[1]/(gender_stacked.M.sum()))*100,2))\n",
    "# Showing Data values of Gender vs No_show\n",
    "print('\\n',gender_stacked)"
   ]
  },
  {
   "cell_type": "markdown",
   "metadata": {},
   "source": [
    "Slight differnce between missed appiintments % in Female and Male Patients"
   ]
  },
  {
   "cell_type": "markdown",
   "metadata": {},
   "source": [
    "> #### `Creating a Custom Function to Automate the further Analysis`"
   ]
  },
  {
   "cell_type": "code",
   "execution_count": 57,
   "metadata": {},
   "outputs": [],
   "source": [
    "# Defining a custom function to automate the analysis of other variables:\n",
    "def calculate_n_plot(col_1,col_2,ser_1,ser_2):\n",
    "    df_gb = df.groupby(col_1)[col_2].value_counts()\n",
    "    df_gb.unstack().plot(kind=\"bar\",stacked=True).set_xticklabels([ser_2, ser_1])\n",
    "    plt.legend(['Attended','Missed'])\n",
    "    print('Percentage of', ser_1, 'Patients to total Patients is\\n',round((df_gb[1].sum()/len(df[col_1]))*100,2))\n",
    "    print('Percentage of', ser_1, 'Patients who missed their appointment to total',ser_1,'Patients is\\n',round((df_gb[1][1]/(df_gb[1][0]+df_gb[1][1]))*100,2))\n",
    "    print('Percentage of', ser_2, 'Patients who missed their appointment to total',ser_2,'Patients is\\n',round((df_gb[0][1]/(df_gb[0][0]+df_gb[0][1]))*100,2))\n",
    "    print('\\n',df_gb);"
   ]
  },
  {
   "cell_type": "markdown",
   "metadata": {},
   "source": [
    "#### - Hypertension"
   ]
  },
  {
   "cell_type": "code",
   "execution_count": 58,
   "metadata": {
    "scrolled": true
   },
   "outputs": [
    {
     "name": "stdout",
     "output_type": "stream",
     "text": [
      "Percentage of Hypertensive Patients to total Patients is\n",
      " 19.72\n",
      "Percentage of Hypertensive Patients who missed their appointment to total Hypertensive Patients is\n",
      " 17.3\n",
      "Percentage of Non_Hypertensive Patients who missed their appointment to total Non_Hypertensive Patients is\n",
      " 20.9\n",
      "\n",
      " Hypertension  No_show\n",
      "0             0          70178\n",
      "              1          18547\n",
      "1             0          18029\n",
      "              1           3772\n",
      "Name: No_show, dtype: int64\n"
     ]
    },
    {
     "data": {
      "image/png": "[encoded data removed]",
      "text/plain": [
       "<matplotlib.figure.Figure at 0x7f63adc905c0>"
      ]
     },
     "metadata": {
      "needs_background": "light"
     },
     "output_type": "display_data"
    }
   ],
   "source": [
    "# Running the Custom fucniton with Hypertension variables\n",
    "calculate_n_plot('Hypertension','No_show','Hypertensive','Non_Hypertensive');"
   ]
  },
  {
   "cell_type": "markdown",
   "metadata": {},
   "source": [
    "Slight differnce between missed appiintments % in Hypertensive Patients and non- hypertensive patients."
   ]
  },
  {
   "cell_type": "markdown",
   "metadata": {},
   "source": [
    "#### - Diabetes"
   ]
  },
  {
   "cell_type": "code",
   "execution_count": 59,
   "metadata": {
    "scrolled": true
   },
   "outputs": [
    {
     "name": "stdout",
     "output_type": "stream",
     "text": [
      "Percentage of Diabetic Patients to total Patients is\n",
      " 7.19\n",
      "Percentage of Diabetic Patients who missed their appointment to total Diabetic Patients is\n",
      " 18.0\n",
      "Percentage of Non_Diabetic Patients who missed their appointment to total Non_Diabetic Patients is\n",
      " 20.36\n",
      "\n",
      " Diabetes  No_show\n",
      "0         0          81694\n",
      "          1          20889\n",
      "1         0           6513\n",
      "          1           1430\n",
      "Name: No_show, dtype: int64\n"
     ]
    },
    {
     "data": {
      "image/png": "[encoded data removed]",
      "text/plain": [
       "<matplotlib.figure.Figure at 0x7f63ab1457b8>"
      ]
     },
     "metadata": {
      "needs_background": "light"
     },
     "output_type": "display_data"
    }
   ],
   "source": [
    "calculate_n_plot('Diabetes','No_show','Diabetic',\"Non_Diabetic\");"
   ]
  },
  {
   "cell_type": "markdown",
   "metadata": {},
   "source": [
    "Slight differnce between missed appiintments % in Diabetic and non- diabetic patients"
   ]
  },
  {
   "cell_type": "markdown",
   "metadata": {},
   "source": [
    "#### - Scholarship"
   ]
  },
  {
   "cell_type": "code",
   "execution_count": 60,
   "metadata": {
    "scrolled": false
   },
   "outputs": [
    {
     "name": "stdout",
     "output_type": "stream",
     "text": [
      "Percentage of With_scholarship Patients to total Patients is\n",
      " 9.83\n",
      "Percentage of With_scholarship Patients who missed their appointment to total With_scholarship Patients is\n",
      " 23.74\n",
      "Percentage of Without_scholarship Patients who missed their appointment to total Without_scholarship Patients is\n",
      " 19.81\n",
      "\n",
      " Scholarship  No_show\n",
      "0            0          79924\n",
      "             1          19741\n",
      "1            0           8283\n",
      "             1           2578\n",
      "Name: No_show, dtype: int64\n"
     ]
    },
    {
     "data": {
      "image/png": "[encoded data removed]",
      "text/plain": [
       "<matplotlib.figure.Figure at 0x7f63ab0fbfd0>"
      ]
     },
     "metadata": {
      "needs_background": "light"
     },
     "output_type": "display_data"
    }
   ],
   "source": [
    "calculate_n_plot('Scholarship','No_show','With_scholarship',\"Without_scholarship\");"
   ]
  },
  {
   "cell_type": "markdown",
   "metadata": {},
   "source": [
    "Patients with scholarship seemed to miss their medical appointment than who don't."
   ]
  },
  {
   "cell_type": "markdown",
   "metadata": {},
   "source": [
    "#### - Alcoholism"
   ]
  },
  {
   "cell_type": "code",
   "execution_count": 61,
   "metadata": {
    "scrolled": true
   },
   "outputs": [
    {
     "name": "stdout",
     "output_type": "stream",
     "text": [
      "Percentage of Alcoholic Patients to total Patients is\n",
      " 3.04\n",
      "Percentage of Alcoholic Patients who missed their appointment to total Alcoholic Patients is\n",
      " 20.15\n",
      "Percentage of Non_Alcoholic Patients who missed their appointment to total Non_Alcoholic Patients is\n",
      " 20.19\n",
      "\n",
      " Alcoholism  No_show\n",
      "0           0          85524\n",
      "            1          21642\n",
      "1           0           2683\n",
      "            1            677\n",
      "Name: No_show, dtype: int64\n"
     ]
    },
    {
     "data": {
      "image/png": "[encoded data removed]",
      "text/plain": [
       "<matplotlib.figure.Figure at 0x7f63ab053d30>"
      ]
     },
     "metadata": {
      "needs_background": "light"
     },
     "output_type": "display_data"
    }
   ],
   "source": [
    "calculate_n_plot('Alcoholism','No_show','Alcoholic',\"Non_Alcoholic\");"
   ]
  },
  {
   "cell_type": "markdown",
   "metadata": {},
   "source": [
    "Almost now diffrence between missed appointment rates among Alcoholic and non-alcoholic Patients."
   ]
  },
  {
   "cell_type": "markdown",
   "metadata": {},
   "source": [
    "#### - Handicapped Patients"
   ]
  },
  {
   "cell_type": "code",
   "execution_count": 62,
   "metadata": {
    "scrolled": true
   },
   "outputs": [
    {
     "name": "stdout",
     "output_type": "stream",
     "text": [
      "Percentage of Handicapped Patients to total Patients is\n",
      " 2.03\n",
      "Percentage of Handicapped Patients who missed their appointment to total Handicapped Patients is\n",
      " 18.16\n",
      "Percentage of Not_Handicapped Patients who missed their appointment to total Not_Handicapped Patients is\n",
      " 20.24\n",
      "\n",
      " Handicapped  No_show\n",
      "0            0          86373\n",
      "             1          21912\n",
      "1            0           1834\n",
      "             1            407\n",
      "Name: No_show, dtype: int64\n"
     ]
    },
    {
     "data": {
      "image/png": "[encoded data removed]",
      "text/plain": [
       "<matplotlib.figure.Figure at 0x7f63adcbb5f8>"
      ]
     },
     "metadata": {
      "needs_background": "light"
     },
     "output_type": "display_data"
    }
   ],
   "source": [
    "calculate_n_plot('Handicapped','No_show','Handicapped',\"Not_Handicapped\");"
   ]
  },
  {
   "cell_type": "markdown",
   "metadata": {},
   "source": [
    "Ironically, Handicapped Patients has slighlty fewer missed appointments rate than normal patients."
   ]
  },
  {
   "cell_type": "markdown",
   "metadata": {},
   "source": [
    "#### - SMS message Receipt"
   ]
  },
  {
   "cell_type": "code",
   "execution_count": 63,
   "metadata": {
    "scrolled": true
   },
   "outputs": [
    {
     "name": "stdout",
     "output_type": "stream",
     "text": [
      "Percentage of Received_SMS Patients to total Patients is\n",
      " 32.1\n",
      "Percentage of Received_SMS Patients who missed their appointment to total Received_SMS Patients is\n",
      " 27.57\n",
      "Percentage of Didn't_Receive_SMS Patients who missed their appointment to total Didn't_Receive_SMS Patients is\n",
      " 16.7\n",
      "\n",
      " SMS_received  No_show\n",
      "0             0          62509\n",
      "              1          12535\n",
      "1             0          25698\n",
      "              1           9784\n",
      "Name: No_show, dtype: int64\n"
     ]
    },
    {
     "data": {
      "image/png": "[encoded data removed]",
      "text/plain": [
       "<matplotlib.figure.Figure at 0x7f63ab053da0>"
      ]
     },
     "metadata": {
      "needs_background": "light"
     },
     "output_type": "display_data"
    }
   ],
   "source": [
    "calculate_n_plot('SMS_received','No_show','Received_SMS',\"Didn't_Receive_SMS\");"
   ]
  },
  {
   "cell_type": "markdown",
   "metadata": {},
   "source": [
    "Since a higher % missed their appointment in the Patients who received SMS group than the patient who didn't received the SMS, so a \n",
    "`negative correlation may be noticed here between receivng sms and missing the medical appointments`\n",
    "and will be invistigated more in the next part"
   ]
  },
  {
   "cell_type": "markdown",
   "metadata": {},
   "source": [
    "### B) Studying the Correlations between dependent Variable `No_show` and independent variables `Age` and `SMS_received`"
   ]
  },
  {
   "cell_type": "markdown",
   "metadata": {},
   "source": [
    "## Research Questions:"
   ]
  },
  {
   "cell_type": "markdown",
   "metadata": {},
   "source": [
    "Before we answer Research questions we are going to study correlations in depth"
   ]
  },
  {
   "cell_type": "markdown",
   "metadata": {},
   "source": [
    "### - Addressing Correlations"
   ]
  },
  {
   "cell_type": "code",
   "execution_count": 64,
   "metadata": {
    "scrolled": true
   },
   "outputs": [
    {
     "data": {
      "image/png": "[encoded data removed]",
      "text/plain": [
       "<matplotlib.figure.Figure at 0x7f63adf77dd8>"
      ]
     },
     "metadata": {
      "needs_background": "light"
     },
     "output_type": "display_data"
    }
   ],
   "source": [
    "# Addressing Correlation by plotting pairplot\n",
    "sns.pairplot(df);"
   ]
  },
  {
   "cell_type": "markdown",
   "metadata": {},
   "source": [
    "Scince most of variables are dicotomous in nature, so it hinders spotting of correlation in pairplot graph, so we go for the `correlation heatmap`"
   ]
  },
  {
   "cell_type": "code",
   "execution_count": 65,
   "metadata": {
    "scrolled": false
   },
   "outputs": [
    {
     "data": {
      "image/png": "[encoded data removed]",
      "text/plain": [
       "<matplotlib.figure.Figure at 0x7f63a98899b0>"
      ]
     },
     "metadata": {
      "needs_background": "light"
     },
     "output_type": "display_data"
    }
   ],
   "source": [
    "# Addressing Correlation on correlation heatmap\n",
    "fig, ax = plt.subplots(figsize=(10,10))\n",
    "sns.heatmap(df.corr(), annot=True, linewidths=1,cmap='coolwarm');"
   ]
  },
  {
   "cell_type": "markdown",
   "metadata": {},
   "source": [
    "The correlation heatmap shows moderate-high negative correlation with Age and weak negative correlation with receiving sms message."
   ]
  },
  {
   "cell_type": "markdown",
   "metadata": {},
   "source": [
    "> #### Now we are ready to dig deep into research questions and answering it effectively.\n"
   ]
  },
  {
   "cell_type": "markdown",
   "metadata": {},
   "source": [
    "### Q 1:  Is there is a correlation between No-shows incidences and Age ?"
   ]
  },
  {
   "cell_type": "code",
   "execution_count": 66,
   "metadata": {
    "scrolled": false
   },
   "outputs": [
    {
     "name": "stdout",
     "output_type": "stream",
     "text": [
      " Top 15 Ages in the dataset;representing  24.0 % of entire dataset\n",
      " Ages: [0, 1, 52, 49, 53, 56, 38, 59, 2, 50, 57, 36, 51, 19, 39]\n"
     ]
    },
    {
     "data": {
      "image/png": "[encoded data removed]",
      "text/plain": [
       "<matplotlib.figure.Figure at 0x7f63a9ccdcc0>"
      ]
     },
     "metadata": {
      "needs_background": "light"
     },
     "output_type": "display_data"
    }
   ],
   "source": [
    "# Showing the Top 15 presented Ages in the dataset\n",
    "print(' Top 15 Ages in the dataset;representing ',round(df.Age.value_counts().sort_values(ascending=False)[:15].sum()/df.Age.value_counts().sum(),2)*100,\"% of entire dataset\")\n",
    "print(' Ages:',df.Age.value_counts().sort_values(ascending=False)[:15].index.values.tolist())\n",
    "df.Age.value_counts().sort_values(ascending=False)[:15].plot(kind='bar', figsize=(12,8));\n",
    "plt.ylabel('COunt')\n",
    "plt.xlabel(\"Top 15 presented Ages in the dataset\");"
   ]
  },
  {
   "cell_type": "code",
   "execution_count": 67,
   "metadata": {
    "scrolled": true
   },
   "outputs": [
    {
     "name": "stdout",
     "output_type": "stream",
     "text": [
      " Top 10 Ages in missed appointment patients,representing  26.0 % of Total missed appointments patients.\n",
      "Ages: [0, 1, 17, 19, 30, 9, 20, 21, 16, 25, 22, 18, 33, 36, 23]\n"
     ]
    },
    {
     "data": {
      "image/png": "[encoded data removed]",
      "text/plain": [
       "<matplotlib.figure.Figure at 0x7f63a9c69518>"
      ]
     },
     "metadata": {
      "needs_background": "light"
     },
     "output_type": "display_data"
    }
   ],
   "source": [
    "# Showing the Top 15 presented Ages in the missed appointment patients\n",
    "print(' Top 10 Ages in missed appointment patients,representing ',round(missed_pts.Age.value_counts().sort_values(ascending=False)[:15].sum()/missed_pts.Age.value_counts().sum(),2)*100,\"% of Total missed appointments patients.\")\n",
    "print('Ages:',missed_pts.Age.value_counts().sort_values(ascending=False)[:15].index.values.tolist())\n",
    "missed_pts.Age.value_counts().sort_values(ascending=False)[:15].plot(kind='bar', figsize=(12,5));\n",
    "plt.ylabel('Count')\n",
    "plt.xlabel(\"Top 15 presented Ages in the Missed Appointments Patients group\");"
   ]
  },
  {
   "cell_type": "markdown",
   "metadata": {},
   "source": [
    "> * We noticed here that the top 15 represented Ages in Total dataset Patients differs significantly than the top 15 ages represented in the No_show patient group."
   ]
  },
  {
   "cell_type": "code",
   "execution_count": 68,
   "metadata": {},
   "outputs": [
    {
     "data": {
      "text/plain": [
       "(37.790504154999034, 34.317666562121957, 37.089218826339504)"
      ]
     },
     "execution_count": 68,
     "metadata": {},
     "output_type": "execute_result"
    }
   ],
   "source": [
    "# Calculating mean of Age across Attended Missed and Total Patients\n",
    "attended_pts.Age.mean(), missed_pts.Age.mean(), df.Age.mean()"
   ]
  },
  {
   "cell_type": "markdown",
   "metadata": {},
   "source": [
    "> * Mean Age of No_show Patient siginifcantly differs than attended_pts group and the Total patients mean."
   ]
  },
  {
   "cell_type": "markdown",
   "metadata": {},
   "source": [
    "> * These findings would suggest that the increase in No_shows is not entirely related to sample size(records counts per Patient Age), and could be correlated with other factors such as Age, as we will study more now."
   ]
  },
  {
   "cell_type": "code",
   "execution_count": 69,
   "metadata": {
    "scrolled": true
   },
   "outputs": [
    {
     "data": {
      "image/png": "[encoded data removed]",
      "text/plain": [
       "<matplotlib.figure.Figure at 0x7f63a9f0a7f0>"
      ]
     },
     "metadata": {
      "needs_background": "light"
     },
     "output_type": "display_data"
    }
   ],
   "source": [
    "# Checking correlation between age and no_show by plotting both histogram for attended and missed patients segmented by Age\n",
    "attended_pts.Age.hist(alpha=0.35, bins=100,label=\"Attended\", figsize=(12,8))\n",
    "missed_pts.Age.hist(alpha=0.35, bins=100,label=\"Missed\", figsize=(12,8))\n",
    "plt.legend();\n",
    "plt.title(\"Age vs No_show Histogram\")\n",
    "plt.xlabel(\"Age\")\n",
    "plt.ylabel(\"Count\");"
   ]
  },
  {
   "cell_type": "code",
   "execution_count": 70,
   "metadata": {
    "scrolled": true
   },
   "outputs": [
    {
     "data": {
      "image/png": "[encoded data removed]",
      "text/plain": [
       "<matplotlib.figure.Figure at 0x7f63a9891a58>"
      ]
     },
     "metadata": {
      "needs_background": "light"
     },
     "output_type": "display_data"
    }
   ],
   "source": [
    "# Checking correlation between age and no_show by plotting both histogram for attended and missed patients segmented by Age\n",
    "attended_pts.Age.hist(alpha=0.35, bins=100,label=\"Attended\", figsize=(12,8))\n",
    "missed_pts.Age.hist(alpha=0.35, bins=100,label=\"Missed\", figsize=(12,8))\n",
    "df.Age.hist(alpha=0.35, bins=100,label=\"Total Patients\", figsize=(12,8))\n",
    "plt.legend();\n",
    "plt.title(\"Age vs No_show Histogram\")\n",
    "plt.xlabel(\"Age\")\n",
    "plt.ylabel(\"Count\");"
   ]
  },
  {
   "cell_type": "code",
   "execution_count": 71,
   "metadata": {
    "scrolled": false
   },
   "outputs": [
    {
     "data": {
      "text/html": [
       "<style  type=\"text/css\" >\n",
       "    #T_5d64f98e_0081_11ec_a683_0242ac120002row0_col0 {\n",
       "            background-color:  #b40426;\n",
       "        }    #T_5d64f98e_0081_11ec_a683_0242ac120002row0_col1 {\n",
       "            background-color:  #3b4cc0;\n",
       "        }    #T_5d64f98e_0081_11ec_a683_0242ac120002row0_col2 {\n",
       "            background-color:  #e2dad5;\n",
       "        }    #T_5d64f98e_0081_11ec_a683_0242ac120002row0_col3 {\n",
       "            background-color:  #a2c1ff;\n",
       "        }    #T_5d64f98e_0081_11ec_a683_0242ac120002row0_col4 {\n",
       "            background-color:  #5f7fe8;\n",
       "        }    #T_5d64f98e_0081_11ec_a683_0242ac120002row0_col5 {\n",
       "            background-color:  #5b7ae5;\n",
       "        }    #T_5d64f98e_0081_11ec_a683_0242ac120002row0_col6 {\n",
       "            background-color:  #455cce;\n",
       "        }    #T_5d64f98e_0081_11ec_a683_0242ac120002row0_col7 {\n",
       "            background-color:  #3b4cc0;\n",
       "        }    #T_5d64f98e_0081_11ec_a683_0242ac120002row1_col0 {\n",
       "            background-color:  #3b4cc0;\n",
       "        }    #T_5d64f98e_0081_11ec_a683_0242ac120002row1_col1 {\n",
       "            background-color:  #b40426;\n",
       "        }    #T_5d64f98e_0081_11ec_a683_0242ac120002row1_col2 {\n",
       "            background-color:  #3e51c5;\n",
       "        }    #T_5d64f98e_0081_11ec_a683_0242ac120002row1_col3 {\n",
       "            background-color:  #3b4cc0;\n",
       "        }    #T_5d64f98e_0081_11ec_a683_0242ac120002row1_col4 {\n",
       "            background-color:  #4c66d6;\n",
       "        }    #T_5d64f98e_0081_11ec_a683_0242ac120002row1_col5 {\n",
       "            background-color:  #3f53c6;\n",
       "        }    #T_5d64f98e_0081_11ec_a683_0242ac120002row1_col6 {\n",
       "            background-color:  #4257c9;\n",
       "        }    #T_5d64f98e_0081_11ec_a683_0242ac120002row1_col7 {\n",
       "            background-color:  #5470de;\n",
       "        }    #T_5d64f98e_0081_11ec_a683_0242ac120002row2_col0 {\n",
       "            background-color:  #e8d6cc;\n",
       "        }    #T_5d64f98e_0081_11ec_a683_0242ac120002row2_col1 {\n",
       "            background-color:  #4f69d9;\n",
       "        }    #T_5d64f98e_0081_11ec_a683_0242ac120002row2_col2 {\n",
       "            background-color:  #b40426;\n",
       "        }    #T_5d64f98e_0081_11ec_a683_0242ac120002row2_col3 {\n",
       "            background-color:  #cedaeb;\n",
       "        }    #T_5d64f98e_0081_11ec_a683_0242ac120002row2_col4 {\n",
       "            background-color:  #5d7ce6;\n",
       "        }    #T_5d64f98e_0081_11ec_a683_0242ac120002row2_col5 {\n",
       "            background-color:  #5b7ae5;\n",
       "        }    #T_5d64f98e_0081_11ec_a683_0242ac120002row2_col6 {\n",
       "            background-color:  #3f53c6;\n",
       "        }    #T_5d64f98e_0081_11ec_a683_0242ac120002row2_col7 {\n",
       "            background-color:  #4055c8;\n",
       "        }    #T_5d64f98e_0081_11ec_a683_0242ac120002row3_col0 {\n",
       "            background-color:  #b1cbfc;\n",
       "        }    #T_5d64f98e_0081_11ec_a683_0242ac120002row3_col1 {\n",
       "            background-color:  #4c66d6;\n",
       "        }    #T_5d64f98e_0081_11ec_a683_0242ac120002row3_col2 {\n",
       "            background-color:  #cfdaea;\n",
       "        }    #T_5d64f98e_0081_11ec_a683_0242ac120002row3_col3 {\n",
       "            background-color:  #b40426;\n",
       "        }    #T_5d64f98e_0081_11ec_a683_0242ac120002row3_col4 {\n",
       "            background-color:  #485fd1;\n",
       "        }    #T_5d64f98e_0081_11ec_a683_0242ac120002row3_col5 {\n",
       "            background-color:  #5470de;\n",
       "        }    #T_5d64f98e_0081_11ec_a683_0242ac120002row3_col6 {\n",
       "            background-color:  #3d50c3;\n",
       "        }    #T_5d64f98e_0081_11ec_a683_0242ac120002row3_col7 {\n",
       "            background-color:  #465ecf;\n",
       "        }    #T_5d64f98e_0081_11ec_a683_0242ac120002row4_col0 {\n",
       "            background-color:  #7295f4;\n",
       "        }    #T_5d64f98e_0081_11ec_a683_0242ac120002row4_col1 {\n",
       "            background-color:  #5e7de7;\n",
       "        }    #T_5d64f98e_0081_11ec_a683_0242ac120002row4_col2 {\n",
       "            background-color:  #5f7fe8;\n",
       "        }    #T_5d64f98e_0081_11ec_a683_0242ac120002row4_col3 {\n",
       "            background-color:  #465ecf;\n",
       "        }    #T_5d64f98e_0081_11ec_a683_0242ac120002row4_col4 {\n",
       "            background-color:  #b40426;\n",
       "        }    #T_5d64f98e_0081_11ec_a683_0242ac120002row4_col5 {\n",
       "            background-color:  #4358cb;\n",
       "        }    #T_5d64f98e_0081_11ec_a683_0242ac120002row4_col6 {\n",
       "            background-color:  #3b4cc0;\n",
       "        }    #T_5d64f98e_0081_11ec_a683_0242ac120002row4_col7 {\n",
       "            background-color:  #4b64d5;\n",
       "        }    #T_5d64f98e_0081_11ec_a683_0242ac120002row5_col0 {\n",
       "            background-color:  #6e90f2;\n",
       "        }    #T_5d64f98e_0081_11ec_a683_0242ac120002row5_col1 {\n",
       "            background-color:  #516ddb;\n",
       "        }    #T_5d64f98e_0081_11ec_a683_0242ac120002row5_col2 {\n",
       "            background-color:  #5e7de7;\n",
       "        }    #T_5d64f98e_0081_11ec_a683_0242ac120002row5_col3 {\n",
       "            background-color:  #536edd;\n",
       "        }    #T_5d64f98e_0081_11ec_a683_0242ac120002row5_col4 {\n",
       "            background-color:  #4358cb;\n",
       "        }    #T_5d64f98e_0081_11ec_a683_0242ac120002row5_col5 {\n",
       "            background-color:  #b40426;\n",
       "        }    #T_5d64f98e_0081_11ec_a683_0242ac120002row5_col6 {\n",
       "            background-color:  #3b4cc0;\n",
       "        }    #T_5d64f98e_0081_11ec_a683_0242ac120002row5_col7 {\n",
       "            background-color:  #4961d2;\n",
       "        }    #T_5d64f98e_0081_11ec_a683_0242ac120002row6_col0 {\n",
       "            background-color:  #5875e1;\n",
       "        }    #T_5d64f98e_0081_11ec_a683_0242ac120002row6_col1 {\n",
       "            background-color:  #5470de;\n",
       "        }    #T_5d64f98e_0081_11ec_a683_0242ac120002row6_col2 {\n",
       "            background-color:  #4358cb;\n",
       "        }    #T_5d64f98e_0081_11ec_a683_0242ac120002row6_col3 {\n",
       "            background-color:  #3d50c3;\n",
       "        }    #T_5d64f98e_0081_11ec_a683_0242ac120002row6_col4 {\n",
       "            background-color:  #3b4cc0;\n",
       "        }    #T_5d64f98e_0081_11ec_a683_0242ac120002row6_col5 {\n",
       "            background-color:  #3b4cc0;\n",
       "        }    #T_5d64f98e_0081_11ec_a683_0242ac120002row6_col6 {\n",
       "            background-color:  #b40426;\n",
       "        }    #T_5d64f98e_0081_11ec_a683_0242ac120002row6_col7 {\n",
       "            background-color:  #7396f5;\n",
       "        }    #T_5d64f98e_0081_11ec_a683_0242ac120002row7_col0 {\n",
       "            background-color:  #4358cb;\n",
       "        }    #T_5d64f98e_0081_11ec_a683_0242ac120002row7_col1 {\n",
       "            background-color:  #5d7ce6;\n",
       "        }    #T_5d64f98e_0081_11ec_a683_0242ac120002row7_col2 {\n",
       "            background-color:  #3b4cc0;\n",
       "        }    #T_5d64f98e_0081_11ec_a683_0242ac120002row7_col3 {\n",
       "            background-color:  #3d50c3;\n",
       "        }    #T_5d64f98e_0081_11ec_a683_0242ac120002row7_col4 {\n",
       "            background-color:  #4257c9;\n",
       "        }    #T_5d64f98e_0081_11ec_a683_0242ac120002row7_col5 {\n",
       "            background-color:  #3f53c6;\n",
       "        }    #T_5d64f98e_0081_11ec_a683_0242ac120002row7_col6 {\n",
       "            background-color:  #6a8bef;\n",
       "        }    #T_5d64f98e_0081_11ec_a683_0242ac120002row7_col7 {\n",
       "            background-color:  #b40426;\n",
       "        }</style>  \n",
       "<table id=\"T_5d64f98e_0081_11ec_a683_0242ac120002\" > \n",
       "<thead>    <tr> \n",
       "        <th class=\"blank level0\" ></th> \n",
       "        <th class=\"col_heading level0 col0\" >Age</th> \n",
       "        <th class=\"col_heading level0 col1\" >Scholarship</th> \n",
       "        <th class=\"col_heading level0 col2\" >Hypertension</th> \n",
       "        <th class=\"col_heading level0 col3\" >Diabetes</th> \n",
       "        <th class=\"col_heading level0 col4\" >Alcoholism</th> \n",
       "        <th class=\"col_heading level0 col5\" >Handicapped</th> \n",
       "        <th class=\"col_heading level0 col6\" >SMS_received</th> \n",
       "        <th class=\"col_heading level0 col7\" >No_show</th> \n",
       "    </tr></thead> \n",
       "<tbody>    <tr> \n",
       "        <th id=\"T_5d64f98e_0081_11ec_a683_0242ac120002level0_row0\" class=\"row_heading level0 row0\" >Age</th> \n",
       "        <td id=\"T_5d64f98e_0081_11ec_a683_0242ac120002row0_col0\" class=\"data row0 col0\" >1</td> \n",
       "        <td id=\"T_5d64f98e_0081_11ec_a683_0242ac120002row0_col1\" class=\"data row0 col1\" >-0.0924633</td> \n",
       "        <td id=\"T_5d64f98e_0081_11ec_a683_0242ac120002row0_col2\" class=\"data row0 col2\" >0.504586</td> \n",
       "        <td id=\"T_5d64f98e_0081_11ec_a683_0242ac120002row0_col3\" class=\"data row0 col3\" >0.292391</td> \n",
       "        <td id=\"T_5d64f98e_0081_11ec_a683_0242ac120002row0_col4\" class=\"data row0 col4\" >0.0958098</td> \n",
       "        <td id=\"T_5d64f98e_0081_11ec_a683_0242ac120002row0_col5\" class=\"data row0 col5\" >0.0837416</td> \n",
       "        <td id=\"T_5d64f98e_0081_11ec_a683_0242ac120002row0_col6\" class=\"data row0 col6\" >0.0126333</td> \n",
       "        <td id=\"T_5d64f98e_0081_11ec_a683_0242ac120002row0_col7\" class=\"data row0 col7\" >-0.0603268</td> \n",
       "    </tr>    <tr> \n",
       "        <th id=\"T_5d64f98e_0081_11ec_a683_0242ac120002level0_row1\" class=\"row_heading level0 row1\" >Scholarship</th> \n",
       "        <td id=\"T_5d64f98e_0081_11ec_a683_0242ac120002row1_col0\" class=\"data row1 col0\" >-0.0924633</td> \n",
       "        <td id=\"T_5d64f98e_0081_11ec_a683_0242ac120002row1_col1\" class=\"data row1 col1\" >1</td> \n",
       "        <td id=\"T_5d64f98e_0081_11ec_a683_0242ac120002row1_col2\" class=\"data row1 col2\" >-0.0197303</td> \n",
       "        <td id=\"T_5d64f98e_0081_11ec_a683_0242ac120002row1_col3\" class=\"data row1 col3\" >-0.0248944</td> \n",
       "        <td id=\"T_5d64f98e_0081_11ec_a683_0242ac120002row1_col4\" class=\"data row1 col4\" >0.035022</td> \n",
       "        <td id=\"T_5d64f98e_0081_11ec_a683_0242ac120002row1_col5\" class=\"data row1 col5\" >-0.00910378</td> \n",
       "        <td id=\"T_5d64f98e_0081_11ec_a683_0242ac120002row1_col6\" class=\"data row1 col6\" >0.00119196</td> \n",
       "        <td id=\"T_5d64f98e_0081_11ec_a683_0242ac120002row1_col7\" class=\"data row1 col7\" >0.0291336</td> \n",
       "    </tr>    <tr> \n",
       "        <th id=\"T_5d64f98e_0081_11ec_a683_0242ac120002level0_row2\" class=\"row_heading level0 row2\" >Hypertension</th> \n",
       "        <td id=\"T_5d64f98e_0081_11ec_a683_0242ac120002row2_col0\" class=\"data row2 col0\" >0.504586</td> \n",
       "        <td id=\"T_5d64f98e_0081_11ec_a683_0242ac120002row2_col1\" class=\"data row2 col1\" >-0.0197303</td> \n",
       "        <td id=\"T_5d64f98e_0081_11ec_a683_0242ac120002row2_col2\" class=\"data row2 col2\" >1</td> \n",
       "        <td id=\"T_5d64f98e_0081_11ec_a683_0242ac120002row2_col3\" class=\"data row2 col3\" >0.433085</td> \n",
       "        <td id=\"T_5d64f98e_0081_11ec_a683_0242ac120002row2_col4\" class=\"data row2 col4\" >0.0879701</td> \n",
       "        <td id=\"T_5d64f98e_0081_11ec_a683_0242ac120002row2_col5\" class=\"data row2 col5\" >0.0848511</td> \n",
       "        <td id=\"T_5d64f98e_0081_11ec_a683_0242ac120002row2_col6\" class=\"data row2 col6\" >-0.00626997</td> \n",
       "        <td id=\"T_5d64f98e_0081_11ec_a683_0242ac120002row2_col7\" class=\"data row2 col7\" >-0.0357035</td> \n",
       "    </tr>    <tr> \n",
       "        <th id=\"T_5d64f98e_0081_11ec_a683_0242ac120002level0_row3\" class=\"row_heading level0 row3\" >Diabetes</th> \n",
       "        <td id=\"T_5d64f98e_0081_11ec_a683_0242ac120002row3_col0\" class=\"data row3 col0\" >0.292391</td> \n",
       "        <td id=\"T_5d64f98e_0081_11ec_a683_0242ac120002row3_col1\" class=\"data row3 col1\" >-0.0248944</td> \n",
       "        <td id=\"T_5d64f98e_0081_11ec_a683_0242ac120002row3_col2\" class=\"data row3 col2\" >0.433085</td> \n",
       "        <td id=\"T_5d64f98e_0081_11ec_a683_0242ac120002row3_col3\" class=\"data row3 col3\" >1</td> \n",
       "        <td id=\"T_5d64f98e_0081_11ec_a683_0242ac120002row3_col4\" class=\"data row3 col4\" >0.0184731</td> \n",
       "        <td id=\"T_5d64f98e_0081_11ec_a683_0242ac120002row3_col5\" class=\"data row3 col5\" >0.0591445</td> \n",
       "        <td id=\"T_5d64f98e_0081_11ec_a683_0242ac120002row3_col6\" class=\"data row3 col6\" >-0.0145518</td> \n",
       "        <td id=\"T_5d64f98e_0081_11ec_a683_0242ac120002row3_col7\" class=\"data row3 col7\" >-0.0151812</td> \n",
       "    </tr>    <tr> \n",
       "        <th id=\"T_5d64f98e_0081_11ec_a683_0242ac120002level0_row4\" class=\"row_heading level0 row4\" >Alcoholism</th> \n",
       "        <td id=\"T_5d64f98e_0081_11ec_a683_0242ac120002row4_col0\" class=\"data row4 col0\" >0.0958098</td> \n",
       "        <td id=\"T_5d64f98e_0081_11ec_a683_0242ac120002row4_col1\" class=\"data row4 col1\" >0.035022</td> \n",
       "        <td id=\"T_5d64f98e_0081_11ec_a683_0242ac120002row4_col2\" class=\"data row4 col2\" >0.0879701</td> \n",
       "        <td id=\"T_5d64f98e_0081_11ec_a683_0242ac120002row4_col3\" class=\"data row4 col3\" >0.0184731</td> \n",
       "        <td id=\"T_5d64f98e_0081_11ec_a683_0242ac120002row4_col4\" class=\"data row4 col4\" >1</td> \n",
       "        <td id=\"T_5d64f98e_0081_11ec_a683_0242ac120002row4_col5\" class=\"data row4 col5\" >0.00369172</td> \n",
       "        <td id=\"T_5d64f98e_0081_11ec_a683_0242ac120002row4_col6\" class=\"data row4 col6\" >-0.0261485</td> \n",
       "        <td id=\"T_5d64f98e_0081_11ec_a683_0242ac120002row4_col7\" class=\"data row4 col7\" >-0.00019685</td> \n",
       "    </tr>    <tr> \n",
       "        <th id=\"T_5d64f98e_0081_11ec_a683_0242ac120002level0_row5\" class=\"row_heading level0 row5\" >Handicapped</th> \n",
       "        <td id=\"T_5d64f98e_0081_11ec_a683_0242ac120002row5_col0\" class=\"data row5 col0\" >0.0837416</td> \n",
       "        <td id=\"T_5d64f98e_0081_11ec_a683_0242ac120002row5_col1\" class=\"data row5 col1\" >-0.00910378</td> \n",
       "        <td id=\"T_5d64f98e_0081_11ec_a683_0242ac120002row5_col2\" class=\"data row5 col2\" >0.0848511</td> \n",
       "        <td id=\"T_5d64f98e_0081_11ec_a683_0242ac120002row5_col3\" class=\"data row5 col3\" >0.0591445</td> \n",
       "        <td id=\"T_5d64f98e_0081_11ec_a683_0242ac120002row5_col4\" class=\"data row5 col4\" >0.00369172</td> \n",
       "        <td id=\"T_5d64f98e_0081_11ec_a683_0242ac120002row5_col5\" class=\"data row5 col5\" >1</td> \n",
       "        <td id=\"T_5d64f98e_0081_11ec_a683_0242ac120002row5_col6\" class=\"data row5 col6\" >-0.0252206</td> \n",
       "        <td id=\"T_5d64f98e_0081_11ec_a683_0242ac120002row5_col7\" class=\"data row5 col7\" >-0.00728141</td> \n",
       "    </tr>    <tr> \n",
       "        <th id=\"T_5d64f98e_0081_11ec_a683_0242ac120002level0_row6\" class=\"row_heading level0 row6\" >SMS_received</th> \n",
       "        <td id=\"T_5d64f98e_0081_11ec_a683_0242ac120002row6_col0\" class=\"data row6 col0\" >0.0126333</td> \n",
       "        <td id=\"T_5d64f98e_0081_11ec_a683_0242ac120002row6_col1\" class=\"data row6 col1\" >0.00119196</td> \n",
       "        <td id=\"T_5d64f98e_0081_11ec_a683_0242ac120002row6_col2\" class=\"data row6 col2\" >-0.00626997</td> \n",
       "        <td id=\"T_5d64f98e_0081_11ec_a683_0242ac120002row6_col3\" class=\"data row6 col3\" >-0.0145518</td> \n",
       "        <td id=\"T_5d64f98e_0081_11ec_a683_0242ac120002row6_col4\" class=\"data row6 col4\" >-0.0261485</td> \n",
       "        <td id=\"T_5d64f98e_0081_11ec_a683_0242ac120002row6_col5\" class=\"data row6 col5\" >-0.0252206</td> \n",
       "        <td id=\"T_5d64f98e_0081_11ec_a683_0242ac120002row6_col6\" class=\"data row6 col6\" >1</td> \n",
       "        <td id=\"T_5d64f98e_0081_11ec_a683_0242ac120002row6_col7\" class=\"data row6 col7\" >0.126428</td> \n",
       "    </tr>    <tr> \n",
       "        <th id=\"T_5d64f98e_0081_11ec_a683_0242ac120002level0_row7\" class=\"row_heading level0 row7\" >No_show</th> \n",
       "        <td id=\"T_5d64f98e_0081_11ec_a683_0242ac120002row7_col0\" class=\"data row7 col0\" >-0.0603268</td> \n",
       "        <td id=\"T_5d64f98e_0081_11ec_a683_0242ac120002row7_col1\" class=\"data row7 col1\" >0.0291336</td> \n",
       "        <td id=\"T_5d64f98e_0081_11ec_a683_0242ac120002row7_col2\" class=\"data row7 col2\" >-0.0357035</td> \n",
       "        <td id=\"T_5d64f98e_0081_11ec_a683_0242ac120002row7_col3\" class=\"data row7 col3\" >-0.0151812</td> \n",
       "        <td id=\"T_5d64f98e_0081_11ec_a683_0242ac120002row7_col4\" class=\"data row7 col4\" >-0.00019685</td> \n",
       "        <td id=\"T_5d64f98e_0081_11ec_a683_0242ac120002row7_col5\" class=\"data row7 col5\" >-0.00728141</td> \n",
       "        <td id=\"T_5d64f98e_0081_11ec_a683_0242ac120002row7_col6\" class=\"data row7 col6\" >0.126428</td> \n",
       "        <td id=\"T_5d64f98e_0081_11ec_a683_0242ac120002row7_col7\" class=\"data row7 col7\" >1</td> \n",
       "    </tr></tbody> \n",
       "</table> "
      ],
      "text/plain": [
       "<pandas.io.formats.style.Styler at 0x7f63adea2978>"
      ]
     },
     "execution_count": 71,
     "metadata": {},
     "output_type": "execute_result"
    }
   ],
   "source": [
    "df.corr().style.background_gradient(cmap='coolwarm')"
   ]
  },
  {
   "cell_type": "markdown",
   "metadata": {},
   "source": [
    "From the Age vs No_show Histogram, difference in mean ages, the heatmap; we can conclude a significant negative correlation between age and No_shows incidences.\n",
    "\n",
    "The negative correlation can be spotted clearly at the histogram starting from Ages from 17 till 100+; we can see that as the age increases; no. of No_shows decreases; indicating that No_shows incidences in Young Adults throughout Geriatric patients is inversly protional to Age; \n",
    "> ### `The higher the age; the lesser the missed medical appointments/No_shows`."
   ]
  },
  {
   "cell_type": "markdown",
   "metadata": {},
   "source": [
    "### Q 2: Is there a correlation between No-Shows incidences  and receiveing SMS message?"
   ]
  },
  {
   "cell_type": "code",
   "execution_count": 72,
   "metadata": {
    "scrolled": false
   },
   "outputs": [
    {
     "name": "stdout",
     "output_type": "stream",
     "text": [
      "Received to Not Received SMS Patients is 0.47\n"
     ]
    },
    {
     "data": {
      "image/png": "[encoded data removed]",
      "text/plain": [
       "<matplotlib.figure.Figure at 0x7f63aa06a4a8>"
      ]
     },
     "metadata": {},
     "output_type": "display_data"
    }
   ],
   "source": [
    "# Showing the Female to Male ratio% in the dataset\n",
    "print('Received to Not Received SMS Patients is', round((df.SMS_received == 1).sum()/(df.SMS_received == 0).sum(),2))\n",
    "df.SMS_received.value_counts().plot(kind=\"pie\",labels=[\"Not Received\",\"Received\"],   autopct='%1.0f%%')\n",
    "plt.ylabel(\"Count\")\n",
    "plt.title(\"SMS Receipt\");"
   ]
  },
  {
   "cell_type": "code",
   "execution_count": 73,
   "metadata": {
    "scrolled": true
   },
   "outputs": [
    {
     "name": "stdout",
     "output_type": "stream",
     "text": [
      "Percentage of Received_SMS Patients to total Patients is\n",
      " 32.1\n",
      "Percentage of Received_SMS Patients who missed their appointment to total Received_SMS Patients is\n",
      " 27.57\n",
      "Percentage of Didn't_Receive_SMS Patients who missed their appointment to total Didn't_Receive_SMS Patients is\n",
      " 16.7\n",
      "\n",
      " SMS_received  No_show\n",
      "0             0          62509\n",
      "              1          12535\n",
      "1             0          25698\n",
      "              1           9784\n",
      "Name: No_show, dtype: int64\n"
     ]
    },
    {
     "data": {
      "image/png": "[encoded data removed]",
      "text/plain": [
       "<matplotlib.figure.Figure at 0x7f63a9e91d68>"
      ]
     },
     "metadata": {
      "needs_background": "light"
     },
     "output_type": "display_data"
    }
   ],
   "source": [
    "calculate_n_plot('SMS_received','No_show','Received_SMS',\"Didn't_Receive_SMS\");"
   ]
  },
  {
   "cell_type": "markdown",
   "metadata": {},
   "source": [
    "##### Figures:\n",
    "- Percentage of Received_SMS Patients to total Patients is\n",
    " 32.1\n",
    " \n",
    "- Percentage of Received_SMS Patients who missed their appointment to total Received_SMS Patients is\n",
    " 27.57\n",
    "\n",
    "- Percentage of Didn't_Receive_SMS Patients who missed their appointment to total Didn't_Receive_SMS Patients is\n",
    " 16.7"
   ]
  },
  {
   "cell_type": "markdown",
   "metadata": {},
   "source": [
    "From the exploration part, correlation heatmap, and the above results; we can summarize the following:\n",
    "- About two thirds of the patients didn't recieve SMS.\n",
    "\n",
    "- Despite the fact that the correlation heatmap showed a weak negative correlation between receiving sms message and missing medical appointments; a much lower % of Patient who didn't receive the SMS missed their appointment, when compared to patients who received sms message; indicating a controversy, but indeed ...\n",
    "\n",
    "\n",
    "> ### ` Receving sms messge didn't significantly decrease missed apointments, it may had worsen it.`\n",
    "\n",
    "and futher invistigation could resolve this controversy.\n"
   ]
  },
  {
   "cell_type": "markdown",
   "metadata": {},
   "source": [
    "<a id='conclusions'></a>\n",
    "## Conclusions\n",
    "\n",
    "> - Through all the perceiding results, findings and visulaizations; we've seen that Age was significantly and negatively correlated with No_shows incidences. and we could conclude that, `as the age increases; patients get more commitment to their medical appointments`.\n",
    "\n",
    "> - Secondly,we've noticed a weak negative correlation between receiving sms and missing the medical appointments, so a further analysis could be done, trying to invistigate the context of sending and receiveing these sms and the leading time between sending them and the appointment dates, if this data is avaioable in the first place.\n",
    "\n",
    "> ### In conclusion, Age can be used in the prediction of No_shows incidences, while \"sending a reminding sms\" has low and negative impact on patients' commitment to their medical appintments. \n",
    "\n",
    "\n",
    "## Limitations:\n",
    "- We didn't invistigate 3 variables; ScheduledDay, AppointmentDay and Neighbourhood\n",
    "- We didn't categoried age into age groups and study the in-between variability and correlation with dependent variable.\n",
    "\n",
    "## Future Invitigation\n",
    "- Studying the correlation with \"Leading time\" (time from scheduling day till appointment day; would be valuable in concluding what factors affect prediction of No_show incidences."
   ]
  },
  {
   "cell_type": "code",
   "execution_count": 75,
   "metadata": {},
   "outputs": [
    {
     "data": {
      "text/plain": [
       "0"
      ]
     },
     "execution_count": 75,
     "metadata": {},
     "output_type": "execute_result"
    }
   ],
   "source": [
    "from subprocess import call\n",
    "call(['python', '-m', 'nbconvert', 'Investigate_a_Dataset.ipynb'])"
   ]
  }
 ],
 "metadata": {
  "interpreter": {
   "hash": "438930018c5a73a6a1bbb7e91d27676fb45f0e7118b5b81ef2798ce296184c1c"
  },
  "kernelspec": {
   "display_name": "Python 3.8.11 64-bit ('base': conda)",
   "name": "python3"
  },
  "language_info": {
   "codemirror_mode": {
    "name": "ipython",
    "version": 3
   },
   "file_extension": ".py",
   "mimetype": "text/x-python",
   "name": "python",
   "nbconvert_exporter": "python",
   "pygments_lexer": "ipython3",
   "version": "3.8.11"
  }
 },
 "nbformat": 4,
 "nbformat_minor": 2
}
